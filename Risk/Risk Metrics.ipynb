{
 "cells": [
  {
   "cell_type": "markdown",
   "source": [
    "### Importing Libraries "
   ],
   "metadata": {
    "collapsed": false
   },
   "id": "5bcfdc81d0574888"
  },
  {
   "cell_type": "code",
   "execution_count": 2,
   "id": "initial_id",
   "metadata": {
    "collapsed": true,
    "ExecuteTime": {
     "end_time": "2024-01-26T22:17:24.565321Z",
     "start_time": "2024-01-26T22:17:24.497795Z"
    }
   },
   "outputs": [],
   "source": [
    "import pandas as pd\n",
    "import numpy as np\n",
    "import yfinance as yf \n",
    "\n",
    "#ignore warnings\n",
    "import warnings\n",
    "warnings.filterwarnings('ignore')\n"
   ]
  },
  {
   "cell_type": "markdown",
   "source": [
    "### Get data from Yahoo Finance\n",
    "\n",
    "You can change the 2 stocks as well as the market with the tickers of your choice. For some metrics you will need to use except the stock itself, a market index as a benchmark. The most common practice for major stocks is to use the S&P 500 Index. \n",
    "\n",
    "At the end we will have a dataframe with the returns of the 2 assets and the market, since all the risk metrics are using the returns and not the raw values."
   ],
   "metadata": {
    "collapsed": false
   },
   "id": "78c179ad12658d93"
  },
  {
   "cell_type": "code",
   "outputs": [],
   "source": [
    "symbol_1 = 'AAPL'\n",
    "symbol_2 = 'TSLA'\n",
    "market = '^GSPC'\n",
    "\n",
    "df_asset1 = yf.download(symbol_1, start='2023-01-01', end='2023-12-31')['Adj Close'].rename(symbol_1);\n",
    "df_asset2 = yf.download(symbol_2, start='2023-01-01', end='2023-12-31')['Adj Close'].rename(symbol_2);\n",
    "df_market = yf.download(market, start='2023-01-01', end='2023-12-31')['Close'].rename(market);\n",
    "df_main = pd.merge(df_asset1, df_asset2, on='Date')\n",
    "df_main = pd.merge(df_main, df_market, on='Date')\n",
    "df_returns = df_main.pct_change().dropna()\n",
    "df_returns"
   ],
   "metadata": {
    "collapsed": false
   },
   "id": "40958fa3235acab6",
   "execution_count": null
  },
  {
   "cell_type": "markdown",
   "source": [
    "## Standard Deviation\n",
    "\n",
    "Standard deviation indicates the degree of variation or volatility in the returns of each stock or index. A higher standard deviation implies higher volatility, while a lower standard deviation suggests lower volatility. Being a risk measure means that higher values represent a potentially riskier investment."
   ],
   "metadata": {
    "collapsed": false
   },
   "id": "f784df3f59ea178e"
  },
  {
   "cell_type": "code",
   "outputs": [
    {
     "name": "stdout",
     "output_type": "stream",
     "text": [
      "AAPL has a Standard Deviation of 0.012544777745598272\n",
      "TSLA has a Standard Deviation of 0.03309894573475674\n",
      "^GSPC has a Standard Deviation of 0.008241846331439819\n"
     ]
    }
   ],
   "source": [
    "df = df_returns.copy()\n",
    "    \n",
    "def calculate_standard_deviation(returns):\n",
    "    return np.std(returns)\n",
    "\n",
    "print(f'{symbol_1} has a Standard Deviation of {calculate_standard_deviation(df[symbol_1])}')\n",
    "print(f'{symbol_2} has a Standard Deviation of {calculate_standard_deviation(df[symbol_2])}')\n",
    "print(f'{market} has a Standard Deviation of {calculate_standard_deviation(df[market])}')"
   ],
   "metadata": {
    "collapsed": false,
    "ExecuteTime": {
     "end_time": "2024-01-26T22:17:45.227988Z",
     "start_time": "2024-01-26T22:17:45.200783Z"
    }
   },
   "id": "7e19c58df555e524",
   "execution_count": 4
  },
  {
   "cell_type": "markdown",
   "source": [
    "## Beta\n",
    "\n",
    "Beta measures the sensitivity of a stock's returns to changes in the returns of a benchmark index. A beta greater than 1 indicates higher volatility compared to the benchmark, while a beta less than 1 suggests lower volatility."
   ],
   "metadata": {
    "collapsed": false
   },
   "id": "35945d9509f3f587"
  },
  {
   "cell_type": "code",
   "outputs": [
    {
     "name": "stdout",
     "output_type": "stream",
     "text": [
      "AAPL has a Beta of 1.1045133228679587 using ^GSPC as the benchmark\n",
      "TSLA has a Beta of 2.219296862746592 using ^GSPC as the benchmark\n"
     ]
    }
   ],
   "source": [
    "df = df_returns.copy()\n",
    "    \n",
    "def calculate_beta(returns, benchmark_returns):\n",
    "    covariance = returns.cov(benchmark_returns)\n",
    "    variance = benchmark_returns.var()\n",
    "    beta = covariance / variance\n",
    "    return beta\n",
    "\n",
    "print(f'{symbol_1} has a Beta of {calculate_beta(df[symbol_1], df[market])} using {market} as the benchmark')\n",
    "print(f'{symbol_2} has a Beta of {calculate_beta(df[symbol_2], df[market])} using {market} as the benchmark')\n"
   ],
   "metadata": {
    "collapsed": false,
    "ExecuteTime": {
     "end_time": "2024-01-26T22:17:45.292146Z",
     "start_time": "2024-01-26T22:17:45.212965Z"
    }
   },
   "id": "a26295106cf38ad9",
   "execution_count": 5
  },
  {
   "cell_type": "markdown",
   "source": [
    "## Maximum Drawdown:\n",
    "\n",
    "Maximum Drawdown is a risk metric that measures the maximum loss from a peak to a trough of a portfolio's value during a specific period, usually expressed as a percentage. It provides insight into the worst-case scenario or the largest decline an investment experienced over a certain time frame.\n"
   ],
   "metadata": {
    "collapsed": false
   },
   "id": "ef79bd37a5d229d4"
  },
  {
   "cell_type": "code",
   "outputs": [
    {
     "name": "stdout",
     "output_type": "stream",
     "text": [
      "AAPL has a maximum drawdown of -0.37244419520189614\n",
      "TSLA has a maximum drawdown of -0.6238494657551136\n",
      "^GSPC has a maximum drawdown of -0.2038843028608435\n"
     ]
    }
   ],
   "source": [
    "df = df_returns.copy()\n",
    "    \n",
    "def calculate_max_drawdown(returns):\n",
    "    wealth_index = np.cumprod(1 + returns)\n",
    "    peak_index = np.argmax(wealth_index)\n",
    "    trough_index = np.argmin(wealth_index[:peak_index + 1])\n",
    "\n",
    "    max_drawdown = (wealth_index.iloc[trough_index] - wealth_index.iloc[peak_index]) / wealth_index.iloc[peak_index]\n",
    "    return max_drawdown\n",
    "\n",
    "print(f'{symbol_1} has a maximum drawdown of {calculate_max_drawdown(df[symbol_1])}')\n",
    "print(f'{symbol_2} has a maximum drawdown of {calculate_max_drawdown(df[symbol_2])}')\n",
    "print(f'{market} has a maximum drawdown of {calculate_max_drawdown(df[market])}')\n",
    "\n"
   ],
   "metadata": {
    "collapsed": false,
    "ExecuteTime": {
     "end_time": "2024-01-26T22:17:45.341757Z",
     "start_time": "2024-01-26T22:17:45.242057Z"
    }
   },
   "id": "7870b273c742ac60",
   "execution_count": 6
  },
  {
   "cell_type": "markdown",
   "source": [
    "## Sharpe Ratio:\n",
    "\n",
    "The Sharpe ratio is a measure of risk-adjusted performance and indicates the excess return generated per unit of risk, with risk measured as the standard deviation of returns. Higher Sharpe ratios generally suggest better risk-adjusted performance"
   ],
   "metadata": {
    "collapsed": false
   },
   "id": "fe718bd09922e287"
  },
  {
   "cell_type": "code",
   "outputs": [
    {
     "name": "stdout",
     "output_type": "stream",
     "text": [
      "AAPL has a Sharpe ratio of 0.14627021721972275\n",
      "TSLA has a Sharpe ratio of 0.11760865791443038\n",
      "^GSPC has a Sharpe ratio of 0.11184268785503289\n"
     ]
    }
   ],
   "source": [
    "df = df_returns.copy()\n",
    "    \n",
    "def calculate_sharpe_ratio(returns, risk_free_rate):\n",
    "    average_return = np.mean(returns)\n",
    "    volatility = np.std(returns)\n",
    "    sharpe_ratio = (average_return - risk_free_rate) / volatility\n",
    "    return sharpe_ratio\n",
    "\n",
    "print(f'{symbol_1} has a Sharpe ratio of {calculate_sharpe_ratio(df[symbol_1], 0)}')\n",
    "print(f'{symbol_2} has a Sharpe ratio of {calculate_sharpe_ratio(df[symbol_2], 0)}')\n",
    "print(f'{market} has a Sharpe ratio of {calculate_sharpe_ratio(df[market], 0)}')"
   ],
   "metadata": {
    "collapsed": false,
    "ExecuteTime": {
     "end_time": "2024-01-26T22:17:45.423066Z",
     "start_time": "2024-01-26T22:17:45.259363Z"
    }
   },
   "id": "f91a571b2f57405f",
   "execution_count": 7
  },
  {
   "cell_type": "markdown",
   "source": [],
   "metadata": {
    "collapsed": false
   },
   "id": "a52a86ae6251a6ef"
  },
  {
   "cell_type": "markdown",
   "source": [
    "## Sortino Ratio: \n",
    "\n",
    "Similar to the Sharpe ratio, the Sortino ratio focuses on downside volatility, considering only the standard deviation of negative returns. It provides a measure of risk-adjusted return with a focus on downside risk."
   ],
   "metadata": {
    "collapsed": false
   },
   "id": "780eb0cde72f8b6"
  },
  {
   "cell_type": "code",
   "outputs": [
    {
     "name": "stdout",
     "output_type": "stream",
     "text": [
      "AAPL has a Sortino ratio of 0.2703069618656741\n",
      "TSLA has a Sortino ratio of 0.2198285494487039\n",
      "^GSPC has a Sortino ratio of 0.20205301637520193\n"
     ]
    }
   ],
   "source": [
    "df = df_returns.copy()\n",
    "    \n",
    "def calculate_sortino_ratio(returns, risk_free_rate=0):\n",
    "    downside_returns = np.minimum(returns - risk_free_rate, 0)\n",
    "    downside_volatility = np.std(downside_returns)\n",
    "\n",
    "    average_return = np.mean(returns - risk_free_rate)  # Adjust for risk-free rate\n",
    "\n",
    "    if downside_volatility == 0:\n",
    "        return np.inf  # Avoid division by zero\n",
    "\n",
    "    sortino_ratio = average_return / downside_volatility\n",
    "    return sortino_ratio\n",
    "\n",
    "print(f'{symbol_1} has a Sortino ratio of {calculate_sortino_ratio(df[symbol_1])}')\n",
    "print(f'{symbol_2} has a Sortino ratio of {calculate_sortino_ratio(df[symbol_2])}')\n",
    "print(f'{market} has a Sortino ratio of {calculate_sortino_ratio(df[market])}')"
   ],
   "metadata": {
    "collapsed": false,
    "ExecuteTime": {
     "end_time": "2024-01-26T22:17:45.425863Z",
     "start_time": "2024-01-26T22:17:45.275810Z"
    }
   },
   "id": "aa6a4455cf8373aa",
   "execution_count": 8
  },
  {
   "cell_type": "markdown",
   "source": [],
   "metadata": {
    "collapsed": false
   },
   "id": "54a3bbc6a91e3b12"
  },
  {
   "cell_type": "markdown",
   "source": [
    "## Treynor Ratio: \n",
    "\n",
    "The Treynor Ratio is another risk-adjusted performance measure similar to the Sharpe ratio. It's calculated by dividing the excess return over the risk-free rate by the beta of the investment, where beta represents the investment's sensitivity to market movements"
   ],
   "metadata": {
    "collapsed": false
   },
   "id": "45b909f5501da6e9"
  },
  {
   "cell_type": "markdown",
   "source": [],
   "metadata": {
    "collapsed": false
   },
   "id": "5e21a3dc7297a1f4"
  },
  {
   "cell_type": "code",
   "outputs": [
    {
     "name": "stdout",
     "output_type": "stream",
     "text": [
      "AAPL has a Treynor ratio of 0.0016612994409675973 used ^GSPC as the market\n",
      "TSLA has a Treynor ratio of 0.0017540341950601794 used ^GSPC as the market\n"
     ]
    }
   ],
   "source": [
    "df = df_returns.copy()\n",
    "    \n",
    "def calculate_treynor_ratio(returns, market_returns, risk_free_rate):\n",
    "    excess_return = returns - risk_free_rate\n",
    "    beta = calculate_beta(returns, market_returns)\n",
    "\n",
    "    if beta == 0:\n",
    "        return np.inf  # Avoid division by zero\n",
    "\n",
    "    treynor_ratio = excess_return.mean() / beta\n",
    "    return treynor_ratio\n",
    "\n",
    "print(f'{symbol_1} has a Treynor ratio of {calculate_treynor_ratio(df[symbol_1], df[market], 0)} used {market} as the market')\n",
    "print(f'{symbol_2} has a Treynor ratio of {calculate_treynor_ratio(df[symbol_2], df[market], 0)} used {market} as the market')"
   ],
   "metadata": {
    "collapsed": false,
    "ExecuteTime": {
     "end_time": "2024-01-26T22:17:45.445995Z",
     "start_time": "2024-01-26T22:17:45.284350Z"
    }
   },
   "id": "aac853074338f63f",
   "execution_count": 9
  },
  {
   "cell_type": "markdown",
   "source": [],
   "metadata": {
    "collapsed": false
   },
   "id": "eea990fbf5cef74c"
  },
  {
   "cell_type": "markdown",
   "source": [
    "## Calmar Ratio:\n",
    "\n",
    "The Calmar Ratio is a risk-adjusted performance measure that evaluates the ratio of the average annual rate of return to the maximum drawdown, providing a measure of risk-adjusted returns. Higher Calmar ratios generally indicate better risk-adjusted performance."
   ],
   "metadata": {
    "collapsed": false
   },
   "id": "a6277d8d86bea3dc"
  },
  {
   "cell_type": "code",
   "outputs": [
    {
     "name": "stdout",
     "output_type": "stream",
     "text": [
      "AAPL has a Calmar ratio of 1.2415328313451997\n",
      "TSLA has a Calmar ratio of 1.5724403811854653\n",
      "^GSPC has a Calmar ratio of 1.1393282311725124\n"
     ]
    }
   ],
   "source": [
    "df = df_returns.copy()\n",
    "    \n",
    "def calculate_calmar_ratio(returns, period=252):  # Assuming 252 trading days in a year\n",
    "    annualized_return = np.mean(returns) * period\n",
    "    max_drawdown = calculate_max_drawdown(returns)\n",
    "\n",
    "    if max_drawdown == 0:\n",
    "        return np.inf  # Avoid division by zero\n",
    "\n",
    "    calmar_ratio = annualized_return / abs(max_drawdown)\n",
    "    return calmar_ratio\n",
    "\n",
    "print(f'{symbol_1} has a Calmar ratio of {calculate_calmar_ratio(df[symbol_1])}')\n",
    "print(f'{symbol_2} has a Calmar ratio of {calculate_calmar_ratio(df[symbol_2])}')\n",
    "print(f'{market} has a Calmar ratio of {calculate_calmar_ratio(df[market])}')"
   ],
   "metadata": {
    "collapsed": false,
    "ExecuteTime": {
     "end_time": "2024-01-26T22:17:45.471829Z",
     "start_time": "2024-01-26T22:17:45.298184Z"
    }
   },
   "id": "85cec09d53a89fd",
   "execution_count": 10
  },
  {
   "cell_type": "markdown",
   "source": [],
   "metadata": {
    "collapsed": false
   },
   "id": "4c6b9d690aff6e1c"
  },
  {
   "cell_type": "markdown",
   "source": [
    "## Ulcer Index:\n",
    "\n",
    "The Ulcer Index is a measure of the depth and duration of drawdowns in an investment. It quantifies the extent of the price decline from its most recent peak, with lower values indicating less severe and shorter drawdowns"
   ],
   "metadata": {
    "collapsed": false
   },
   "id": "ddff30e284251535"
  },
  {
   "cell_type": "code",
   "outputs": [
    {
     "name": "stdout",
     "output_type": "stream",
     "text": [
      "AAPL has an Ulcer index of 0.05509671290767418\n",
      "TSLA has an Ulcer index of 0.14917579484097326\n",
      "^GSPC has an Ulcer index of 0.03408355669692506\n"
     ]
    }
   ],
   "source": [
    "df = df_returns.copy()\n",
    "\n",
    "def calculate_ulcer_index(returns):\n",
    "    returns = returns.dropna()\n",
    "    wealth_index = np.cumprod(1 + returns)\n",
    "    previous_peaks = np.maximum.accumulate(wealth_index)\n",
    "    drawdowns = (wealth_index - previous_peaks) / previous_peaks\n",
    "    squared_drawdowns = np.square(drawdowns)\n",
    "    ulcer_index = np.sqrt(np.mean(squared_drawdowns))\n",
    "    return ulcer_index\n",
    "\n",
    "print(f'{symbol_1} has an Ulcer index of {calculate_ulcer_index(df[symbol_1])}')\n",
    "print(f'{symbol_2} has an Ulcer index of {calculate_ulcer_index(df[symbol_2])}')\n",
    "print(f'{market} has an Ulcer index of {calculate_ulcer_index(df[market])}')\n",
    "\n"
   ],
   "metadata": {
    "collapsed": false,
    "ExecuteTime": {
     "end_time": "2024-01-26T22:17:45.495198Z",
     "start_time": "2024-01-26T22:17:45.314062Z"
    }
   },
   "id": "43987d2effd2c982",
   "execution_count": 11
  },
  {
   "cell_type": "markdown",
   "source": [
    "## Value at Risk (VaR):\n",
    "\n",
    "Value at Risk (VaR) is a statistical measure used to quantify the potential loss on an investment over a specific time horizon and with a certain confidence level. There are different methods to calculate VaR, and one common approach is the historical simulation method."
   ],
   "metadata": {
    "collapsed": false
   },
   "id": "94dc9d1c9438f1a0"
  },
  {
   "cell_type": "code",
   "outputs": [
    {
     "name": "stdout",
     "output_type": "stream",
     "text": [
      "AAPL has a Value at Risk of 0.01725376628542985\n",
      "TSLA has a Value at Risk of 0.05030873801899527\n",
      "^GSPC has a Value at Risk of 0.013788741489130674\n"
     ]
    }
   ],
   "source": [
    "df = df_returns.copy()\n",
    "    \n",
    "def calculate_var(returns, confidence_level=0.95):\n",
    "    returns_sorted = np.sort(returns)\n",
    "    n = len(returns)\n",
    "    position = int(n * (1 - confidence_level))\n",
    "    \n",
    "    var = -returns_sorted[position]\n",
    "    return var\n",
    "\n",
    "print(f'{symbol_1} has a Value at Risk of {calculate_var(df[symbol_1])}')\n",
    "print(f'{symbol_2} has a Value at Risk of {calculate_var(df[symbol_2])}')\n",
    "print(f'{market} has a Value at Risk of {calculate_var(df[market])}')"
   ],
   "metadata": {
    "collapsed": false,
    "ExecuteTime": {
     "end_time": "2024-01-26T22:17:45.498799Z",
     "start_time": "2024-01-26T22:17:45.332924Z"
    }
   },
   "id": "4618d71e3aa912ba",
   "execution_count": 12
  },
  {
   "cell_type": "markdown",
   "source": [
    "## Conditional Value at Risk (CVaR):\n",
    "\n",
    "Conditional Value at Risk (CVaR), also known as Expected Shortfall (ES), is a risk measure that quantifies the expected loss beyond the Value at Risk (VaR) at a certain confidence level. While VaR gives the maximum loss with a certain probability, CVaR provides an estimate of the expected loss given that the loss exceeds the VaR."
   ],
   "metadata": {
    "collapsed": false
   },
   "id": "ecaab13683632b9a"
  },
  {
   "cell_type": "code",
   "outputs": [
    {
     "name": "stdout",
     "output_type": "stream",
     "text": [
      "AAPL has a Conditional Value at Risk of 0.025631181708822726\n",
      "TSLA has a Conditional Value at Risk of 0.06672154043052804\n",
      "^GSPC has a Conditional Value at Risk of 0.015845102985801485\n"
     ]
    }
   ],
   "source": [
    "df = df_returns.copy()\n",
    "    \n",
    "def calculate_cvar(returns, confidence_level=0.95):\n",
    "    sorted_returns = np.sort(returns)\n",
    "    n = len(returns)\n",
    "    position = int(n * (1 - confidence_level))\n",
    "\n",
    "    cvar = -np.mean(sorted_returns[:position])\n",
    "    return cvar\n",
    "\n",
    "print(f'{symbol_1} has a Conditional Value at Risk of {calculate_cvar(df[symbol_1])}')\n",
    "print(f'{symbol_2} has a Conditional Value at Risk of {calculate_cvar(df[symbol_2])}')\n",
    "print(f'{market} has a Conditional Value at Risk of {calculate_cvar(df[market])}')"
   ],
   "metadata": {
    "collapsed": false,
    "ExecuteTime": {
     "end_time": "2024-01-26T22:17:45.521533Z",
     "start_time": "2024-01-26T22:17:45.345967Z"
    }
   },
   "id": "1ca1a5016f337e5c",
   "execution_count": 13
  },
  {
   "cell_type": "markdown",
   "source": [
    "## Downside Deviation:\n",
    "\n",
    "Downside Deviation is a risk metric that focuses on the volatility of negative returns or downside risk. It measures the dispersion of returns below a certain threshold, typically zero."
   ],
   "metadata": {
    "collapsed": false
   },
   "id": "2b57c90e9a1cb38"
  },
  {
   "cell_type": "code",
   "outputs": [
    {
     "name": "stdout",
     "output_type": "stream",
     "text": [
      "AAPL has a Downside Deviation of 0.006788309680065321\n",
      "TSLA has a Downside Deviation of 0.01770799377974175\n",
      "^GSPC has a Downside Deviation of 0.004562120690564971\n"
     ]
    }
   ],
   "source": [
    "df = df_returns.copy()\n",
    "    \n",
    "def calculate_downside_deviation(returns, threshold=0):\n",
    "    downside_returns = np.minimum(returns - threshold, 0)\n",
    "    downside_deviation = np.std(downside_returns)\n",
    "    return downside_deviation\n",
    "\n",
    "print(f'{symbol_1} has a Downside Deviation of {calculate_downside_deviation(df[symbol_1])}')\n",
    "print(f'{symbol_2} has a Downside Deviation of {calculate_downside_deviation(df[symbol_2])}')\n",
    "print(f'{market} has a Downside Deviation of {calculate_downside_deviation(df[market])}')"
   ],
   "metadata": {
    "collapsed": false,
    "ExecuteTime": {
     "end_time": "2024-01-26T22:17:45.593374Z",
     "start_time": "2024-01-26T22:17:45.354598Z"
    }
   },
   "id": "9cca1c66a71991e5",
   "execution_count": 14
  },
  {
   "cell_type": "markdown",
   "source": [
    "## R-Squared:\n",
    "\n",
    "R-squared, also known as the coefficient of determination, is a statistical measure that represents the proportion of the variance in the dependent variable that is explained by the independent variable(s) in a regression model. In the context of financial analysis, it can be used to assess how well the performance of an investment or portfolio is explained by a benchmark index or other factors.\n"
   ],
   "metadata": {
    "collapsed": false
   },
   "id": "ba372491a943c015"
  },
  {
   "cell_type": "code",
   "outputs": [
    {
     "name": "stdout",
     "output_type": "stream",
     "text": [
      "AAPL has a R-Squared of 0.5165675266526513 using ^GSPC as the benchmark index\n",
      "TSLA has a R-Squared of 0.20515035436500972 using ^GSPC as the benchmark index\n"
     ]
    }
   ],
   "source": [
    "df = df_returns.copy()\n",
    "    \n",
    "def calculate_r_squared(actual, predicted):\n",
    "    mean_actual = np.mean(actual)\n",
    "    total_sum_of_squares = np.sum((actual - mean_actual) ** 2)\n",
    "    residual_sum_of_squares = np.sum((actual - predicted) ** 2)\n",
    "    \n",
    "    r_squared = 1 - (residual_sum_of_squares / total_sum_of_squares)\n",
    "    return r_squared\n",
    "\n",
    "print(f'{symbol_1} has a R-Squared of {calculate_r_squared(df[symbol_1], df[market])} using {market} as the benchmark index')\n",
    "print(f'{symbol_2} has a R-Squared of {calculate_r_squared(df[symbol_2], df[market])} using {market} as the benchmark index')\n",
    "\n"
   ],
   "metadata": {
    "collapsed": false,
    "ExecuteTime": {
     "end_time": "2024-01-26T22:17:45.797717Z",
     "start_time": "2024-01-26T22:17:45.372089Z"
    }
   },
   "id": "ce49a5966df8f41f",
   "execution_count": 15
  }
 ],
 "metadata": {
  "kernelspec": {
   "display_name": "Python 3",
   "language": "python",
   "name": "python3"
  },
  "language_info": {
   "codemirror_mode": {
    "name": "ipython",
    "version": 2
   },
   "file_extension": ".py",
   "mimetype": "text/x-python",
   "name": "python",
   "nbconvert_exporter": "python",
   "pygments_lexer": "ipython2",
   "version": "2.7.6"
  }
 },
 "nbformat": 4,
 "nbformat_minor": 5
}
