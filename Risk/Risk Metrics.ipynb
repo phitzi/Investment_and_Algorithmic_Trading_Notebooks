{
 "cells": [
  {
   "cell_type": "markdown",
   "source": [
    "### Importing Libraries "
   ],
   "metadata": {
    "collapsed": false
   },
   "id": "5bcfdc81d0574888"
  },
  {
   "cell_type": "code",
   "execution_count": 6,
   "id": "initial_id",
   "metadata": {
    "collapsed": true,
    "ExecuteTime": {
     "end_time": "2024-01-23T06:16:22.645447Z",
     "start_time": "2024-01-23T06:16:22.637609Z"
    }
   },
   "outputs": [],
   "source": [
    "import pandas as pd\n",
    "import matplotlib.pyplot as plt\n",
    "import numpy as np\n",
    "import yfinance as yf \n",
    "\n",
    "#ignore warnings\n",
    "import warnings\n",
    "warnings.filterwarnings('ignore')\n"
   ]
  },
  {
   "cell_type": "markdown",
   "source": [
    "### Get data from Yahoo Finance\n",
    "\n",
    "You can change the 2 stocks as well as the market with the tickers of your choice. For some metrics you will need to use except the stock itself, a market index as a benchmark. The most common practice for major stocks is to use the S&P 500 Index. \n",
    "\n",
    "At the end we will have a dataframe with the returns of the 2 assets and the market, since all the risk metrics are using the returns and not the raw values."
   ],
   "metadata": {
    "collapsed": false
   },
   "id": "78c179ad12658d93"
  },
  {
   "cell_type": "code",
   "outputs": [
    {
     "name": "stderr",
     "output_type": "stream",
     "text": [
      "[*********************100%%**********************]  1 of 1 completed\n",
      "[*********************100%%**********************]  1 of 1 completed\n",
      "[*********************100%%**********************]  1 of 1 completed\n"
     ]
    },
    {
     "data": {
      "text/plain": "                AAPL      TSLA     ^GSPC\nDate                                    \n2023-01-04  0.010314  0.051249  0.007539\n2023-01-05 -0.010605 -0.029039 -0.011646\n2023-01-06  0.036794  0.024651  0.022841\n2023-01-09  0.004089  0.059349 -0.000768\n2023-01-10  0.004456 -0.007681  0.006978\n...              ...       ...       ...\n2023-12-22 -0.005547 -0.007701  0.001660\n2023-12-26 -0.002841  0.016116  0.004232\n2023-12-27  0.000518  0.018822  0.001430\n2023-12-28  0.002226 -0.031594  0.000370\n2023-12-29 -0.005424 -0.018564 -0.002826\n\n[249 rows x 3 columns]",
      "text/html": "<div>\n<style scoped>\n    .dataframe tbody tr th:only-of-type {\n        vertical-align: middle;\n    }\n\n    .dataframe tbody tr th {\n        vertical-align: top;\n    }\n\n    .dataframe thead th {\n        text-align: right;\n    }\n</style>\n<table border=\"1\" class=\"dataframe\">\n  <thead>\n    <tr style=\"text-align: right;\">\n      <th></th>\n      <th>AAPL</th>\n      <th>TSLA</th>\n      <th>^GSPC</th>\n    </tr>\n    <tr>\n      <th>Date</th>\n      <th></th>\n      <th></th>\n      <th></th>\n    </tr>\n  </thead>\n  <tbody>\n    <tr>\n      <th>2023-01-04</th>\n      <td>0.010314</td>\n      <td>0.051249</td>\n      <td>0.007539</td>\n    </tr>\n    <tr>\n      <th>2023-01-05</th>\n      <td>-0.010605</td>\n      <td>-0.029039</td>\n      <td>-0.011646</td>\n    </tr>\n    <tr>\n      <th>2023-01-06</th>\n      <td>0.036794</td>\n      <td>0.024651</td>\n      <td>0.022841</td>\n    </tr>\n    <tr>\n      <th>2023-01-09</th>\n      <td>0.004089</td>\n      <td>0.059349</td>\n      <td>-0.000768</td>\n    </tr>\n    <tr>\n      <th>2023-01-10</th>\n      <td>0.004456</td>\n      <td>-0.007681</td>\n      <td>0.006978</td>\n    </tr>\n    <tr>\n      <th>...</th>\n      <td>...</td>\n      <td>...</td>\n      <td>...</td>\n    </tr>\n    <tr>\n      <th>2023-12-22</th>\n      <td>-0.005547</td>\n      <td>-0.007701</td>\n      <td>0.001660</td>\n    </tr>\n    <tr>\n      <th>2023-12-26</th>\n      <td>-0.002841</td>\n      <td>0.016116</td>\n      <td>0.004232</td>\n    </tr>\n    <tr>\n      <th>2023-12-27</th>\n      <td>0.000518</td>\n      <td>0.018822</td>\n      <td>0.001430</td>\n    </tr>\n    <tr>\n      <th>2023-12-28</th>\n      <td>0.002226</td>\n      <td>-0.031594</td>\n      <td>0.000370</td>\n    </tr>\n    <tr>\n      <th>2023-12-29</th>\n      <td>-0.005424</td>\n      <td>-0.018564</td>\n      <td>-0.002826</td>\n    </tr>\n  </tbody>\n</table>\n<p>249 rows × 3 columns</p>\n</div>"
     },
     "execution_count": 10,
     "metadata": {},
     "output_type": "execute_result"
    }
   ],
   "source": [
    "symbol_1 = 'AAPL'\n",
    "symbol_2 = 'TSLA'\n",
    "market = '^GSPC'\n",
    "\n",
    "df_asset1 = yf.download(symbol_1, start='2023-01-01', end='2023-12-31')['Adj Close'].rename(symbol_1);\n",
    "df_asset2 = yf.download(symbol_2, start='2023-01-01', end='2023-12-31')['Adj Close'].rename(symbol_2);\n",
    "df_market = yf.download(market, start='2023-01-01', end='2023-12-31')['Close'].rename(market);\n",
    "df_main = pd.merge(df_asset1, df_asset2, on='Date')\n",
    "df_main = pd.merge(df_main, df_market, on='Date')\n",
    "start_date = '2023-01-01'\n",
    "end_date = '2023-12-31'\n",
    "df_main = df_main[start_date:end_date]\n",
    "df_returns = df_main.pct_change().dropna()\n",
    "df_returns"
   ],
   "metadata": {
    "collapsed": false,
    "ExecuteTime": {
     "end_time": "2024-01-23T06:18:30.277777Z",
     "start_time": "2024-01-23T06:18:30.147894Z"
    }
   },
   "id": "40958fa3235acab6",
   "execution_count": 10
  },
  {
   "cell_type": "markdown",
   "source": [
    "## Standard Deviation\n",
    "\n",
    "- AAPL (Apple Inc.): 0.0125\n",
    "- TSLA (Tesla Inc.): 0.0331\n",
    "- ^GSPC (S&P 500 Index): 0.0082\n",
    "\n",
    "These values indicate the degree of variation or volatility in the returns of each stock or index. A higher standard deviation implies higher volatility, while a lower standard deviation suggests lower volatility. Investors often use standard deviation as a measure of risk, with higher values representing a potentially riskier investment."
   ],
   "metadata": {
    "collapsed": false
   },
   "id": "f784df3f59ea178e"
  },
  {
   "cell_type": "code",
   "outputs": [
    {
     "name": "stdout",
     "output_type": "stream",
     "text": [
      "AAPL has a Standard Deviation of 0.01254478155112219\n",
      "TSLA has a Standard Deviation of 0.03309894573475674\n",
      "^GSPC has a Standard Deviation of 0.008241846331439819\n"
     ]
    }
   ],
   "source": [
    "df = df_returns.copy()\n",
    "    \n",
    "def calculate_standard_deviation(returns):\n",
    "    return np.std(returns)\n",
    "\n",
    "print(f'{symbol_1} has a Standard Deviation of {calculate_standard_deviation(df[symbol_1])}')\n",
    "print(f'{symbol_2} has a Standard Deviation of {calculate_standard_deviation(df[symbol_2])}')\n",
    "print(f'{market} has a Standard Deviation of {calculate_standard_deviation(df[market])}')"
   ],
   "metadata": {
    "collapsed": false,
    "ExecuteTime": {
     "end_time": "2024-01-23T06:20:32.964536Z",
     "start_time": "2024-01-23T06:20:32.922138Z"
    }
   },
   "id": "7e19c58df555e524",
   "execution_count": 13
  },
  {
   "cell_type": "markdown",
   "source": [
    "## Beta\n",
    "\n",
    "Beta measures the sensitivity of an investment's returns to market movements. A beta greater than 1 indicates higher volatility compared to the market, while a beta less than 1 suggests lower volatility.\n",
    "\n",
    "The beta coefficient measures the sensitivity of a stock's returns to changes in the returns of a benchmark index. A beta greater than 1 indicates higher volatility compared to the benchmark, while a beta less than 1 suggests lower volatility. Here are the beta values you provided:\n",
    "\n",
    "- AAPL (Apple Inc.) has a Beta of approximately 1.1045 using ^GSPC (S&P 500 Index) as the benchmark.\n",
    "- TSLA (Tesla Inc.) has a Beta of approximately 2.2193 using ^GSPC as the benchmark.\n",
    "\n",
    "These beta values suggest how much the returns of each stock tend to move in relation to the movements in the S&P 500 Index. A beta greater than 1 for TSLA indicates that TSLA is expected to be more volatile than the benchmark, while a beta close to 1 for AAPL suggests a similar level of volatility as the benchmark. Beta is a useful metric for investors to assess the risk and volatility of a stock relative to the broader market."
   ],
   "metadata": {
    "collapsed": false
   },
   "id": "35945d9509f3f587"
  },
  {
   "cell_type": "code",
   "outputs": [
    {
     "name": "stdout",
     "output_type": "stream",
     "text": [
      "AAPL has a Beta of 1.1045140840353886 using ^GSPC as the benchmark\n",
      "TSLA has a Beta of 2.219296862746592 using ^GSPC as the benchmark\n"
     ]
    }
   ],
   "source": [
    "df = df_returns.copy()\n",
    "    \n",
    "def calculate_beta(returns, benchmark_returns):\n",
    "    covariance = returns.cov(benchmark_returns)\n",
    "    variance = benchmark_returns.var()\n",
    "    beta = covariance / variance\n",
    "    return beta\n",
    "\n",
    "print(f'{symbol_1} has a Beta of {calculate_beta(df[symbol_1], df[market])} using {market} as the benchmark')\n",
    "print(f'{symbol_2} has a Beta of {calculate_beta(df[symbol_2], df[market])} using {market} as the benchmark')\n"
   ],
   "metadata": {
    "collapsed": false,
    "ExecuteTime": {
     "end_time": "2024-01-23T06:20:51.269547Z",
     "start_time": "2024-01-23T06:20:51.242878Z"
    }
   },
   "id": "a26295106cf38ad9",
   "execution_count": 14
  },
  {
   "cell_type": "markdown",
   "source": [
    "## Maximum Drawdown:\n",
    "\n",
    "Maximum Drawdown is a risk metric that measures the maximum loss from a peak to a trough of a portfolio's value during a specific period, usually expressed as a percentage. It provides insight into the worst-case scenario or the largest decline an investment experienced over a certain time frame.\n",
    "\n",
    "By running the python code below, we can calculate the maximum drawdown of the three stocks.\n",
    "\n",
    "AAPL (Apple Inc.): -0.3724 (37.24% maximum loss)\n",
    "TSLA (Tesla Inc.): -0.6238 (62.38% maximum loss)\n",
    "^GSPC (S&P 500 Index): -0.2039 (20.39% maximum loss)\n",
    "\n",
    "These values represent the largest percentage decline in the value of each stock or index during a specific period. Lower maximum drawdown values are generally considered better, as they indicate lower potential losses during adverse market conditions.\n"
   ],
   "metadata": {
    "collapsed": false
   },
   "id": "ef79bd37a5d229d4"
  },
  {
   "cell_type": "code",
   "outputs": [
    {
     "name": "stdout",
     "output_type": "stream",
     "text": [
      "AAPL has a maximum drawdown of -0.3724441566909941\n",
      "TSLA has a maximum drawdown of -0.6238494657551136\n",
      "^GSPC has a maximum drawdown of -0.2038843028608435\n"
     ]
    }
   ],
   "source": [
    "df = df_returns.copy()\n",
    "    \n",
    "def calculate_max_drawdown(returns):\n",
    "    wealth_index = np.cumprod(1 + returns)\n",
    "    peak_index = np.argmax(wealth_index)\n",
    "    trough_index = np.argmin(wealth_index[:peak_index + 1])\n",
    "\n",
    "    max_drawdown = (wealth_index.iloc[trough_index] - wealth_index.iloc[peak_index]) / wealth_index.iloc[peak_index]\n",
    "    return max_drawdown\n",
    "\n",
    "print(f'{symbol_1} has a maximum drawdown of {calculate_max_drawdown(df[symbol_1])}')\n",
    "print(f'{symbol_2} has a maximum drawdown of {calculate_max_drawdown(df[symbol_2])}')\n",
    "print(f'{market} has a maximum drawdown of {calculate_max_drawdown(df[market])}')\n",
    "\n"
   ],
   "metadata": {
    "collapsed": false,
    "ExecuteTime": {
     "end_time": "2024-01-23T06:21:00.809840Z",
     "start_time": "2024-01-23T06:21:00.782176Z"
    }
   },
   "id": "7870b273c742ac60",
   "execution_count": 15
  },
  {
   "cell_type": "markdown",
   "source": [
    "## Sharpe Ratio:\n",
    "This ratio assesses the risk-adjusted return of an investment by considering its return in relation to its volatility. A higher Sharpe ratio indicates a better risk-adjusted performance.\n",
    "\n",
    "The Sharpe ratio is a measure of risk-adjusted performance and indicates the excess return generated per unit of risk, with risk measured as the standard deviation of returns. Higher Sharpe ratios generally suggest better risk-adjusted performance. Here are the Sharpe ratios you provided:\n",
    "\n",
    "- AAPL (Apple Inc.): 0.1463\n",
    "- TSLA (Tesla Inc.): 0.1176\n",
    "- ^GSPC (S&P 500 Index): 0.1118\n",
    "\n",
    "These values represent the ratio of the average excess return over the risk-free rate to the standard deviation of returns. The higher the Sharpe ratio, the better the risk-adjusted performance. Investors often use the Sharpe ratio to compare the risk-adjusted returns of different investments."
   ],
   "metadata": {
    "collapsed": false
   },
   "id": "fe718bd09922e287"
  },
  {
   "cell_type": "code",
   "outputs": [
    {
     "name": "stdout",
     "output_type": "stream",
     "text": [
      "AAPL has a Sharpe ratio of 0.1462701765459904\n",
      "TSLA has a Sharpe ratio of 0.11760865791443038\n",
      "^GSPC has a Sharpe ratio of 0.11184268785503289\n"
     ]
    }
   ],
   "source": [
    "df = df_returns.copy()\n",
    "    \n",
    "def calculate_sharpe_ratio(returns, risk_free_rate):\n",
    "    average_return = np.mean(returns)\n",
    "    volatility = np.std(returns)\n",
    "    sharpe_ratio = (average_return - risk_free_rate) / volatility\n",
    "    return sharpe_ratio\n",
    "\n",
    "print(f'{symbol_1} has a Sharpe ratio of {calculate_sharpe_ratio(df[symbol_1], 0)}')\n",
    "print(f'{symbol_2} has a Sharpe ratio of {calculate_sharpe_ratio(df[symbol_2], 0)}')\n",
    "print(f'{market} has a Sharpe ratio of {calculate_sharpe_ratio(df[market], 0)}')"
   ],
   "metadata": {
    "collapsed": false,
    "ExecuteTime": {
     "end_time": "2024-01-23T06:21:08.875917Z",
     "start_time": "2024-01-23T06:21:08.854471Z"
    }
   },
   "id": "f91a571b2f57405f",
   "execution_count": 16
  },
  {
   "cell_type": "markdown",
   "source": [],
   "metadata": {
    "collapsed": false
   },
   "id": "a52a86ae6251a6ef"
  },
  {
   "cell_type": "markdown",
   "source": [
    "## Sortino Ratio: \n",
    "imilar to the Sharpe ratio, the Sortino ratio focuses on downside volatility, considering only the standard deviation of negative returns. It provides a measure of risk-adjusted return with a focus on downside risk.\n",
    "\n",
    "The Sortino ratio is a variation of the Sharpe ratio that focuses on downside risk, using only the standard deviation of negative returns in the denominator:\n",
    "\n",
    "The Sortino ratio is a measure of risk-adjusted performance similar to the Sharpe ratio, but it focuses on downside risk only, using the standard deviation of negative returns. Higher Sortino ratios generally indicate better risk-adjusted performance, specifically in terms of mitigating downside volatility. Here are the Sortino ratios you provided:\n",
    "\n",
    "AAPL (Apple Inc.): 0.2703\n",
    "TSLA (Tesla Inc.): 0.2198\n",
    "^GSPC (S&P 500 Index): 0.2021\n",
    "These values represent the ratio of the average excess return over the risk-free rate to the downside semi-deviation. A higher Sortino ratio suggests better risk-adjusted returns, particularly in terms of protecting against downside volatility. Investors often use the Sortino ratio to assess the performance of an investment while giving more emphasis to downside risk."
   ],
   "metadata": {
    "collapsed": false
   },
   "id": "780eb0cde72f8b6"
  },
  {
   "cell_type": "code",
   "outputs": [
    {
     "name": "stdout",
     "output_type": "stream",
     "text": [
      "AAPL has a Sortino ratio of 0.2703070004934494\n",
      "TSLA has a Sortino ratio of 0.2198285494487039\n",
      "^GSPC has a Sortino ratio of 0.20205301637520193\n"
     ]
    }
   ],
   "source": [
    "df = df_returns.copy()\n",
    "    \n",
    "def calculate_sortino_ratio(returns, risk_free_rate=0):\n",
    "    downside_returns = np.minimum(returns - risk_free_rate, 0)\n",
    "    downside_volatility = np.std(downside_returns)\n",
    "\n",
    "    average_return = np.mean(returns - risk_free_rate)  # Adjust for risk-free rate\n",
    "\n",
    "    if downside_volatility == 0:\n",
    "        return np.inf  # Avoid division by zero\n",
    "\n",
    "    sortino_ratio = average_return / downside_volatility\n",
    "    return sortino_ratio\n",
    "\n",
    "print(f'{symbol_1} has a Sortino ratio of {calculate_sortino_ratio(df[symbol_1])}')\n",
    "print(f'{symbol_2} has a Sortino ratio of {calculate_sortino_ratio(df[symbol_2])}')\n",
    "print(f'{market} has a Sortino ratio of {calculate_sortino_ratio(df[market])}')"
   ],
   "metadata": {
    "collapsed": false,
    "ExecuteTime": {
     "end_time": "2024-01-23T06:21:16.257837Z",
     "start_time": "2024-01-23T06:21:16.234786Z"
    }
   },
   "id": "aa6a4455cf8373aa",
   "execution_count": 17
  },
  {
   "cell_type": "markdown",
   "source": [],
   "metadata": {
    "collapsed": false
   },
   "id": "54a3bbc6a91e3b12"
  },
  {
   "cell_type": "markdown",
   "source": [
    "## Treynor Ratio: \n",
    "This ratio assesses the risk-adjusted performance of an investment by considering its excess return per unit of systematic risk (beta). It is especially useful for evaluating the performance of portfolios with respect to market risk.\n",
    "\n",
    "\n",
    "The Treynor Ratio is another risk-adjusted performance measure similar to the Sharpe ratio. It's calculated by dividing the excess return over the risk-free rate by the beta of the investment, where beta represents the investment's sensitivity to market movements. Here's a Python code snippet to calculate the Treynor Ratio:\n",
    "\n",
    "The Treynor ratio, in the context of comparing an individual stock's performance to a market index, is calculated as the excess return over the risk-free rate divided by the beta of the stock. It provides a measure of risk-adjusted performance, considering the stock's systematic risk relative to the market.\n",
    "\n",
    "Here are the Treynor ratios you provided:\n",
    "\n",
    "- AAPL (Apple Inc.): 0.00166 using ^GSPC (S&P 500 Index) as the market.\n",
    "- TSLA (Tesla Inc.): 0.00175 using ^GSPC as the market.\n",
    "\n",
    "These values suggest how well each stock compensates investors for the systematic risk it carries relative to the S&P 500 Index. A higher Treynor ratio indicates better risk-adjusted performance per unit of systematic risk. Investors often use the Treynor ratio to assess the relative performance of individual stocks compared to a market benchmark."
   ],
   "metadata": {
    "collapsed": false
   },
   "id": "45b909f5501da6e9"
  },
  {
   "cell_type": "markdown",
   "source": [],
   "metadata": {
    "collapsed": false
   },
   "id": "5e21a3dc7297a1f4"
  },
  {
   "cell_type": "code",
   "outputs": [
    {
     "name": "stdout",
     "output_type": "stream",
     "text": [
      "AAPL has a Treynor ratio of 0.0016612983380977283 used ^GSPC as the market\n",
      "TSLA has a Treynor ratio of 0.0017540341950601794 used ^GSPC as the market\n"
     ]
    }
   ],
   "source": [
    "df = df_returns.copy()\n",
    "    \n",
    "def calculate_treynor_ratio(returns, market_returns, risk_free_rate):\n",
    "    excess_return = returns - risk_free_rate\n",
    "    beta = calculate_beta(returns, market_returns)\n",
    "\n",
    "    if beta == 0:\n",
    "        return np.inf  # Avoid division by zero\n",
    "\n",
    "    treynor_ratio = excess_return.mean() / beta\n",
    "    return treynor_ratio\n",
    "\n",
    "print(f'{symbol_1} has a Treynor ratio of {calculate_treynor_ratio(df[symbol_1], df[market], 0)} used {market} as the market')\n",
    "print(f'{symbol_2} has a Treynor ratio of {calculate_treynor_ratio(df[symbol_2], df[market], 0)} used {market} as the market')"
   ],
   "metadata": {
    "collapsed": false,
    "ExecuteTime": {
     "end_time": "2024-01-23T06:21:25.340493Z",
     "start_time": "2024-01-23T06:21:25.311406Z"
    }
   },
   "id": "aac853074338f63f",
   "execution_count": 18
  },
  {
   "cell_type": "markdown",
   "source": [],
   "metadata": {
    "collapsed": false
   },
   "id": "eea990fbf5cef74c"
  },
  {
   "cell_type": "markdown",
   "source": [
    "## Calmar Ratio:\n",
    "The Calmar ratio is the ratio of the average annual rate of return to the maximum drawdown. It provides a measure of risk-adjusted return, emphasizing downside risk.\n",
    "\n",
    "\n",
    "The Calmar Ratio is a risk-adjusted performance measure commonly used in the context of hedge funds and managed futures. It is calculated by dividing the average annualized return by the maximum drawdown, which represents the largest peak-to-trough decline in the value of a portfolio.\n",
    "\n",
    "The Calmar Ratio is a risk-adjusted performance measure that evaluates the ratio of the average annual rate of return to the maximum drawdown, providing a measure of risk-adjusted returns. Higher Calmar ratios generally indicate better risk-adjusted performance. Here are the Calmar ratios you provided:\n",
    "\n",
    "- AAPL (Apple Inc.): 1.2415\n",
    "- TSLA (Tesla Inc.): 1.5724\n",
    "- ^GSPC (S&P 500 Index): 1.1393\n",
    "\n",
    "These values represent the ratio of the average annual rate of return to the maximum drawdown for each investment. A higher Calmar ratio suggests better risk-adjusted returns, considering the magnitude of the maximum drawdown. Investors often use the Calmar ratio to assess the trade-off between returns and drawdowns, with higher values indicating better risk-adjusted performance."
   ],
   "metadata": {
    "collapsed": false
   },
   "id": "a6277d8d86bea3dc"
  },
  {
   "cell_type": "code",
   "outputs": [
    {
     "name": "stdout",
     "output_type": "stream",
     "text": [
      "AAPL has a Calmar ratio of 1.241532991109455\n",
      "TSLA has a Calmar ratio of 1.5724403811854653\n",
      "^GSPC has a Calmar ratio of 1.1393282311725124\n"
     ]
    }
   ],
   "source": [
    "df = df_returns.copy()\n",
    "    \n",
    "def calculate_calmar_ratio(returns, period=252):  # Assuming 252 trading days in a year\n",
    "    annualized_return = np.mean(returns) * period\n",
    "    max_drawdown = calculate_max_drawdown(returns)\n",
    "\n",
    "    if max_drawdown == 0:\n",
    "        return np.inf  # Avoid division by zero\n",
    "\n",
    "    calmar_ratio = annualized_return / abs(max_drawdown)\n",
    "    return calmar_ratio\n",
    "\n",
    "print(f'{symbol_1} has a Calmar ratio of {calculate_calmar_ratio(df[symbol_1])}')\n",
    "print(f'{symbol_2} has a Calmar ratio of {calculate_calmar_ratio(df[symbol_2])}')\n",
    "print(f'{market} has a Calmar ratio of {calculate_calmar_ratio(df[market])}')"
   ],
   "metadata": {
    "collapsed": false,
    "ExecuteTime": {
     "end_time": "2024-01-23T06:21:32.874264Z",
     "start_time": "2024-01-23T06:21:32.837340Z"
    }
   },
   "id": "85cec09d53a89fd",
   "execution_count": 19
  },
  {
   "cell_type": "markdown",
   "source": [],
   "metadata": {
    "collapsed": false
   },
   "id": "4c6b9d690aff6e1c"
  },
  {
   "cell_type": "markdown",
   "source": [
    "## Ulcer Index:\n",
    "This index quantifies the depth and duration of drawdowns in an investment's value. It provides a more comprehensive view of downside risk compared to maximum drawdown alone.\n",
    "\n",
    "The Ulcer Index is a measure of risk that incorporates both the depth and duration of drawdowns in an investment. It is calculated by taking the square root of the average of the squared percentage drawdowns over a specified period.\n",
    "\n",
    "The Ulcer Index is a measure of the depth and duration of drawdowns in an investment. It quantifies the extent of the price decline from its most recent peak, with lower values indicating less severe and shorter drawdowns. Here are the Ulcer Index values you provided:\n",
    "\n",
    "- AAPL (Apple Inc.): 0.0551\n",
    "- TSLA (Tesla Inc.): 0.1492\n",
    "- ^GSPC (S&P 500 Index): 0.0341\n",
    "\n",
    "These values represent the proportionate drawdown in each investment. A lower Ulcer Index suggests that the investment experiences less severe and shorter drawdowns, indicating potentially smoother performance. Investors use the Ulcer Index to assess the downside risk and volatility of an investment."
   ],
   "metadata": {
    "collapsed": false
   },
   "id": "ddff30e284251535"
  },
  {
   "cell_type": "code",
   "outputs": [
    {
     "name": "stdout",
     "output_type": "stream",
     "text": [
      "AAPL has an Ulcer index of 0.05509672077820546\n",
      "TSLA has an Ulcer index of 0.14917579484097326\n",
      "^GSPC has an Ulcer index of 0.03408355669692506\n"
     ]
    }
   ],
   "source": [
    "df = df_returns.copy()\n",
    "\n",
    "def calculate_ulcer_index(returns):\n",
    "    returns = returns.dropna()\n",
    "    wealth_index = np.cumprod(1 + returns)\n",
    "    previous_peaks = np.maximum.accumulate(wealth_index)\n",
    "    drawdowns = (wealth_index - previous_peaks) / previous_peaks\n",
    "    squared_drawdowns = np.square(drawdowns)\n",
    "    ulcer_index = np.sqrt(np.mean(squared_drawdowns))\n",
    "    return ulcer_index\n",
    "\n",
    "print(f'{symbol_1} has an Ulcer index of {calculate_ulcer_index(df[symbol_1])}')\n",
    "print(f'{symbol_2} has an Ulcer index of {calculate_ulcer_index(df[symbol_2])}')\n",
    "print(f'{market} has an Ulcer index of {calculate_ulcer_index(df[market])}')\n",
    "\n"
   ],
   "metadata": {
    "collapsed": false,
    "ExecuteTime": {
     "end_time": "2024-01-23T06:21:42.407008Z",
     "start_time": "2024-01-23T06:21:42.399553Z"
    }
   },
   "id": "43987d2effd2c982",
   "execution_count": 20
  },
  {
   "cell_type": "markdown",
   "source": [
    "## Value at Risk (VaR):\n",
    "VaR measures the maximum potential loss of an investment over a specific time period at a given confidence level. It helps investors understand the potential downside risk.\n",
    "\n",
    "Value at Risk (VaR) is a statistical measure used to quantify the potential loss on an investment over a specific time horizon and with a certain confidence level. There are different methods to calculate VaR, and one common approach is the historical simulation method. Here's a simple Python code snippet using historical simulation to calculate VaR:\n",
    "\n",
    "The Value at Risk (VaR) is a statistical measure that quantifies the maximum potential loss of an investment within a specific time frame and at a certain confidence level. Here are the VaR values you provided:\n",
    "\n",
    "- AAPL (Apple Inc.): 0.0173\n",
    "- TSLA (Tesla Inc.): 0.0503\n",
    "- ^GSPC (S&P 500 Index): 0.0138\n",
    "\n",
    "These values represent the estimated maximum potential loss, typically expressed as a percentage, over the specified time frame and confidence level. VaR is commonly used by investors and risk managers to assess the potential downside risk of an investment. A higher VaR indicates a higher level of potential loss."
   ],
   "metadata": {
    "collapsed": false
   },
   "id": "94dc9d1c9438f1a0"
  },
  {
   "cell_type": "code",
   "outputs": [
    {
     "name": "stdout",
     "output_type": "stream",
     "text": [
      "AAPL has a Value at Risk of 0.01725376628542985\n",
      "TSLA has a Value at Risk of 0.05030873801899527\n",
      "^GSPC has a Value at Risk of 0.013788741489130674\n"
     ]
    }
   ],
   "source": [
    "df = df_returns.copy()\n",
    "    \n",
    "def calculate_var(returns, confidence_level=0.95):\n",
    "    returns_sorted = np.sort(returns)\n",
    "    n = len(returns)\n",
    "    position = int(n * (1 - confidence_level))\n",
    "    \n",
    "    var = -returns_sorted[position]\n",
    "    return var\n",
    "\n",
    "print(f'{symbol_1} has a Value at Risk of {calculate_var(df[symbol_1])}')\n",
    "print(f'{symbol_2} has a Value at Risk of {calculate_var(df[symbol_2])}')\n",
    "print(f'{market} has a Value at Risk of {calculate_var(df[market])}')"
   ],
   "metadata": {
    "collapsed": false,
    "ExecuteTime": {
     "end_time": "2024-01-23T06:21:50.855132Z",
     "start_time": "2024-01-23T06:21:50.811781Z"
    }
   },
   "id": "4618d71e3aa912ba",
   "execution_count": 21
  },
  {
   "cell_type": "markdown",
   "source": [
    "## Conditional Value at Risk (CVaR):\n",
    "\n",
    "Also known as Expected Shortfall, CVaR measures the expected loss beyond a certain confidence level. It provides insights into the severity of extreme losses.\n",
    "\n",
    "Conditional Value at Risk (CVaR), also known as Expected Shortfall (ES), is a risk measure that quantifies the expected loss beyond the Value at Risk (VaR) at a certain confidence level. While VaR gives the maximum loss with a certain probability, CVaR provides an estimate of the expected loss given that the loss exceeds the VaR.\n",
    "\n",
    "Conditional Value at Risk (CVaR), also known as Expected Shortfall (ES), is a risk measure that provides an estimate of the expected loss beyond the Value at Risk (VaR) at a certain confidence level. Here are the CVaR values you provided:\n",
    "\n",
    "- AAPL (Apple Inc.): 0.0256\n",
    "- TSLA (Tesla Inc.): 0.0667\n",
    "- ^GSPC (S&P 500 Index): 0.0158\n",
    "\n",
    "These values represent the expected loss beyond the VaR at a specified confidence level. CVaR is often considered a more informative risk measure than VaR, as it takes into account the severity of losses beyond the VaR threshold. A higher CVaR indicates a potentially greater expected loss beyond the VaR. Investors use CVaR to gain insights into the tail risk of an investment or portfolio."
   ],
   "metadata": {
    "collapsed": false
   },
   "id": "ecaab13683632b9a"
  },
  {
   "cell_type": "code",
   "outputs": [
    {
     "name": "stdout",
     "output_type": "stream",
     "text": [
      "AAPL has a Conditional Value at Risk of 0.02563116524184404\n",
      "TSLA has a Conditional Value at Risk of 0.06672154043052804\n",
      "^GSPC has a Conditional Value at Risk of 0.015845102985801485\n"
     ]
    }
   ],
   "source": [
    "df = df_returns.copy()\n",
    "    \n",
    "def calculate_cvar(returns, confidence_level=0.95):\n",
    "    sorted_returns = np.sort(returns)\n",
    "    n = len(returns)\n",
    "    position = int(n * (1 - confidence_level))\n",
    "\n",
    "    cvar = -np.mean(sorted_returns[:position])\n",
    "    return cvar\n",
    "\n",
    "print(f'{symbol_1} has a Conditional Value at Risk of {calculate_cvar(df[symbol_1])}')\n",
    "print(f'{symbol_2} has a Conditional Value at Risk of {calculate_cvar(df[symbol_2])}')\n",
    "print(f'{market} has a Conditional Value at Risk of {calculate_cvar(df[market])}')"
   ],
   "metadata": {
    "collapsed": false,
    "ExecuteTime": {
     "end_time": "2024-01-23T06:21:58.290586Z",
     "start_time": "2024-01-23T06:21:58.267972Z"
    }
   },
   "id": "1ca1a5016f337e5c",
   "execution_count": 22
  },
  {
   "cell_type": "markdown",
   "source": [
    "## Downside Deviation:\n",
    "Similar to standard deviation, downside deviation focuses on the variability of negative returns. It provides a more targeted measure of risk\n",
    "\n",
    "\n",
    "Downside Deviation is a risk metric that focuses on the volatility of negative returns or downside risk. It measures the dispersion of returns below a certain threshold, typically zero. Here's a Python code snippet to calculate Downside Deviation:\n",
    "\n",
    "Downside Deviation is a risk metric that focuses on the volatility of negative returns or downside risk. It measures the dispersion of returns below a certain threshold, typically zero. Here are the Downside Deviation values you provided:\n",
    "\n",
    "AAPL (Apple Inc.): 0.0068\n",
    "TSLA (Tesla Inc.): 0.0177\n",
    "^GSPC (S&P 500 Index): 0.0046\n",
    "These values represent the standard deviation of the negative returns, providing a measure of the volatility of downside risk. A higher Downside Deviation indicates greater volatility in negative returns, implying potentially larger and more frequent downside movements in the investment. Investors use Downside Deviation to assess the risk associated with negative returns and the potential for losses in adverse market conditions."
   ],
   "metadata": {
    "collapsed": false
   },
   "id": "2b57c90e9a1cb38"
  },
  {
   "cell_type": "code",
   "outputs": [
    {
     "name": "stdout",
     "output_type": "stream",
     "text": [
      "AAPL has a Downside Deviation of 0.0067883086479370355\n",
      "TSLA has a Downside Deviation of 0.01770799377974175\n",
      "^GSPC has a Downside Deviation of 0.004562120690564971\n"
     ]
    }
   ],
   "source": [
    "df = df_returns.copy()\n",
    "    \n",
    "def calculate_downside_deviation(returns, threshold=0):\n",
    "    downside_returns = np.minimum(returns - threshold, 0)\n",
    "    downside_deviation = np.std(downside_returns)\n",
    "    return downside_deviation\n",
    "\n",
    "print(f'{symbol_1} has a Downside Deviation of {calculate_downside_deviation(df[symbol_1])}')\n",
    "print(f'{symbol_2} has a Downside Deviation of {calculate_downside_deviation(df[symbol_2])}')\n",
    "print(f'{market} has a Downside Deviation of {calculate_downside_deviation(df[market])}')"
   ],
   "metadata": {
    "collapsed": false,
    "ExecuteTime": {
     "end_time": "2024-01-23T05:23:38.373371Z",
     "start_time": "2024-01-23T05:23:38.346316Z"
    }
   },
   "id": "9cca1c66a71991e5",
   "execution_count": 64
  },
  {
   "cell_type": "markdown",
   "source": [
    "## R-Squared:\n",
    "R-squared measures the proportion of an investment's movement that can be explained by movements in its benchmark index. A higher R-squared indicates a closer correlation.\n",
    "\n",
    "R-squared, also known as the coefficient of determination, is a statistical measure that represents the proportion of the variance in the dependent variable that is explained by the independent variable(s) in a regression model. In the context of financial analysis, it can be used to assess how well the performance of an investment or portfolio is explained by a benchmark index or other factors.\n",
    "\n",
    "The R-squared value measures the proportion of the variance in the dependent variable (stock returns in this case) that is explained by the independent variable (benchmark returns, ^GSPC in this case) in a linear regression model. Here are the R-squared values you provided:\n",
    "\n",
    "- AAPL (Apple Inc.): 0.5166 using ^GSPC as the benchmark.\n",
    "- TSLA (Tesla Inc.): 0.2052 using ^GSPC as the benchmark.\n",
    "\n",
    "These values represent the goodness of fit of the linear regression model. A higher R-squared value indicates a stronger linear relationship between the stock returns and the benchmark returns. In this context, R-squared is often used to assess how well the stock's performance aligns with movements in the benchmark index. Keep in mind that R-squared does not imply causation but only measures the strength and direction of the linear relationship.\n"
   ],
   "metadata": {
    "collapsed": false
   },
   "id": "ba372491a943c015"
  },
  {
   "cell_type": "code",
   "outputs": [
    {
     "name": "stdout",
     "output_type": "stream",
     "text": [
      "AAPL has a R-Squared of 0.5165678698098413 using ^GSPC as the benchmark index\n",
      "TSLA has a R-Squared of 0.20515035436500972 using ^GSPC as the benchmark index\n"
     ]
    }
   ],
   "source": [
    "df = df_returns.copy()\n",
    "    \n",
    "def calculate_r_squared(actual, predicted):\n",
    "    mean_actual = np.mean(actual)\n",
    "    total_sum_of_squares = np.sum((actual - mean_actual) ** 2)\n",
    "    residual_sum_of_squares = np.sum((actual - predicted) ** 2)\n",
    "    \n",
    "    r_squared = 1 - (residual_sum_of_squares / total_sum_of_squares)\n",
    "    return r_squared\n",
    "\n",
    "print(f'{symbol_1} has a R-Squared of {calculate_r_squared(df[symbol_1], df[market])} using {market} as the benchmark index')\n",
    "print(f'{symbol_2} has a R-Squared of {calculate_r_squared(df[symbol_2], df[market])} using {market} as the benchmark index')\n",
    "\n"
   ],
   "metadata": {
    "collapsed": false,
    "ExecuteTime": {
     "end_time": "2024-01-23T06:22:12.647082Z",
     "start_time": "2024-01-23T06:22:12.636117Z"
    }
   },
   "id": "ce49a5966df8f41f",
   "execution_count": 23
  }
 ],
 "metadata": {
  "kernelspec": {
   "display_name": "Python 3",
   "language": "python",
   "name": "python3"
  },
  "language_info": {
   "codemirror_mode": {
    "name": "ipython",
    "version": 2
   },
   "file_extension": ".py",
   "mimetype": "text/x-python",
   "name": "python",
   "nbconvert_exporter": "python",
   "pygments_lexer": "ipython2",
   "version": "2.7.6"
  }
 },
 "nbformat": 4,
 "nbformat_minor": 5
}
