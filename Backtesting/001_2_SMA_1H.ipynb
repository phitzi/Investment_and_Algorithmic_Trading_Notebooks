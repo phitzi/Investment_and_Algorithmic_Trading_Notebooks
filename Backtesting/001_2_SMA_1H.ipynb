{
 "cells": [
  {
   "cell_type": "markdown",
   "source": [
    "### FOREX STRATEGY 2 SMA CROSSOVER\n",
    "\n",
    "Time Frame 1h\n",
    "\n",
    "Indicators : \n",
    "- SMA fast 9\n",
    "- SMA slow 100\n",
    "\n",
    "LONG: When the fast SMA crosses above the slow SMA\n",
    "SHORT: When the fast SMA crosses below the slow SMA\n",
    "\n",
    "Stop Loss: 50 Pips\n",
    "\n",
    "Target: 100 pips or close your position when reverse signal is detected "
   ],
   "metadata": {
    "collapsed": false
   },
   "id": "a0271823b9d1dc9d"
  },
  {
   "cell_type": "markdown",
   "source": [
    "Imports and get Data"
   ],
   "metadata": {
    "collapsed": false
   },
   "id": "83b926346641e9d4"
  },
  {
   "cell_type": "code",
   "outputs": [
    {
     "name": "stderr",
     "output_type": "stream",
     "text": [
      "/Users/phitzi/PycharmProjects/Investment and Algorithmic Trading Notebooks/venv/lib/python3.9/site-packages/urllib3/__init__.py:34: NotOpenSSLWarning: urllib3 v2 only supports OpenSSL 1.1.1+, currently the 'ssl' module is compiled with 'LibreSSL 2.8.3'. See: https://github.com/urllib3/urllib3/issues/3020\n",
      "  warnings.warn(\n",
      "[*********************100%%**********************]  1 of 1 completed\n"
     ]
    },
    {
     "data": {
      "text/plain": "                               Open      High       Low     Close  Adj Close  \\\nDatetime                                                                       \n2023-01-02 00:00:00+00:00  1.070091  1.071123  1.069862  1.070893   1.070893   \n2023-01-02 01:00:00+00:00  1.071008  1.071237  1.070091  1.070664   1.070664   \n2023-01-02 02:00:00+00:00  1.070435  1.070435  1.069633  1.070435   1.070435   \n2023-01-02 03:00:00+00:00  1.070549  1.070893  1.070091  1.070893   1.070893   \n2023-01-02 04:00:00+00:00  1.070778  1.071123  1.069862  1.070091   1.070091   \n\n                           Volume  \nDatetime                           \n2023-01-02 00:00:00+00:00       0  \n2023-01-02 01:00:00+00:00       0  \n2023-01-02 02:00:00+00:00       0  \n2023-01-02 03:00:00+00:00       0  \n2023-01-02 04:00:00+00:00       0  ",
      "text/html": "<div>\n<style scoped>\n    .dataframe tbody tr th:only-of-type {\n        vertical-align: middle;\n    }\n\n    .dataframe tbody tr th {\n        vertical-align: top;\n    }\n\n    .dataframe thead th {\n        text-align: right;\n    }\n</style>\n<table border=\"1\" class=\"dataframe\">\n  <thead>\n    <tr style=\"text-align: right;\">\n      <th></th>\n      <th>Open</th>\n      <th>High</th>\n      <th>Low</th>\n      <th>Close</th>\n      <th>Adj Close</th>\n      <th>Volume</th>\n    </tr>\n    <tr>\n      <th>Datetime</th>\n      <th></th>\n      <th></th>\n      <th></th>\n      <th></th>\n      <th></th>\n      <th></th>\n    </tr>\n  </thead>\n  <tbody>\n    <tr>\n      <th>2023-01-02 00:00:00+00:00</th>\n      <td>1.070091</td>\n      <td>1.071123</td>\n      <td>1.069862</td>\n      <td>1.070893</td>\n      <td>1.070893</td>\n      <td>0</td>\n    </tr>\n    <tr>\n      <th>2023-01-02 01:00:00+00:00</th>\n      <td>1.071008</td>\n      <td>1.071237</td>\n      <td>1.070091</td>\n      <td>1.070664</td>\n      <td>1.070664</td>\n      <td>0</td>\n    </tr>\n    <tr>\n      <th>2023-01-02 02:00:00+00:00</th>\n      <td>1.070435</td>\n      <td>1.070435</td>\n      <td>1.069633</td>\n      <td>1.070435</td>\n      <td>1.070435</td>\n      <td>0</td>\n    </tr>\n    <tr>\n      <th>2023-01-02 03:00:00+00:00</th>\n      <td>1.070549</td>\n      <td>1.070893</td>\n      <td>1.070091</td>\n      <td>1.070893</td>\n      <td>1.070893</td>\n      <td>0</td>\n    </tr>\n    <tr>\n      <th>2023-01-02 04:00:00+00:00</th>\n      <td>1.070778</td>\n      <td>1.071123</td>\n      <td>1.069862</td>\n      <td>1.070091</td>\n      <td>1.070091</td>\n      <td>0</td>\n    </tr>\n  </tbody>\n</table>\n</div>"
     },
     "execution_count": 1,
     "metadata": {},
     "output_type": "execute_result"
    }
   ],
   "source": [
    "import pandas as pd\n",
    "import pandas_ta as ta\n",
    "import yfinance as yf\n",
    "\n",
    "\n",
    "pair = 'EURUSD=X'\n",
    "timeframe = '1h'\n",
    "start = '2023-01-01'\n",
    "end = '2023-12-31'\n",
    "\n",
    "df = yf.download(pair, start=start, end=end, interval=timeframe)\n",
    "\n",
    "df.head()\n"
   ],
   "metadata": {
    "collapsed": false,
    "ExecuteTime": {
     "end_time": "2024-02-15T05:15:18.844336Z",
     "start_time": "2024-02-15T05:14:59.244943Z"
    }
   },
   "id": "b6f2a017b1f84043",
   "execution_count": 1
  },
  {
   "cell_type": "code",
   "outputs": [
    {
     "data": {
      "text/plain": "1.0798699999999999"
     },
     "execution_count": 2,
     "metadata": {},
     "output_type": "execute_result"
    }
   ],
   "source": [
    "def calculate_price(current_price, pips, pip_value):\n",
    "    price_change = pips * pip_value\n",
    "    new_price = current_price + price_change\n",
    "    return new_price\n",
    "\n",
    "#test the function\n",
    "calculate_price(1.08987, -100, 0.0001)"
   ],
   "metadata": {
    "collapsed": false,
    "ExecuteTime": {
     "end_time": "2024-02-15T05:15:18.856797Z",
     "start_time": "2024-02-15T05:15:18.846476Z"
    }
   },
   "id": "376fcbd52958d57e",
   "execution_count": 2
  },
  {
   "cell_type": "markdown",
   "source": [
    "Backtest"
   ],
   "metadata": {
    "collapsed": false
   },
   "id": "f353735a95431c2"
  },
  {
   "cell_type": "code",
   "execution_count": 5,
   "id": "initial_id",
   "metadata": {
    "collapsed": true,
    "ExecuteTime": {
     "end_time": "2024-02-15T05:17:07.689240Z",
     "start_time": "2024-02-15T05:17:07.508469Z"
    }
   },
   "outputs": [
    {
     "name": "stdout",
     "output_type": "stream",
     "text": [
      "Start                     2023-01-02 00:00...\n",
      "End                       2023-12-29 22:00...\n",
      "Duration                    361 days 22:00:00\n",
      "Exposure Time [%]                   40.534413\n",
      "Equity Final [$]                  8062.510222\n",
      "Equity Peak [$]                  10075.895656\n",
      "Return [%]                         -19.374898\n",
      "Buy & Hold Return [%]                 3.09119\n",
      "Return (Ann.) [%]                  -18.838864\n",
      "Volatility (Ann.) [%]                 4.23719\n",
      "Sharpe Ratio                              0.0\n",
      "Sortino Ratio                             0.0\n",
      "Calmar Ratio                              0.0\n",
      "Max. Drawdown [%]                  -21.513655\n",
      "Avg. Drawdown [%]                   -4.415227\n",
      "Max. Drawdown Duration      346 days 02:00:00\n",
      "Avg. Drawdown Duration       69 days 18:00:00\n",
      "# Trades                                   82\n",
      "Win Rate [%]                        18.292683\n",
      "Best Trade [%]                       0.758977\n",
      "Worst Trade [%]                     -0.675301\n",
      "Avg. Trade [%]                      -0.262307\n",
      "Max. Trade Duration           6 days 20:00:00\n",
      "Avg. Trade Duration           1 days 19:00:00\n",
      "Profit Factor                        0.324047\n",
      "Expectancy [%]                      -0.261114\n",
      "SQN                                  -4.85758\n",
      "_strategy                            SmaCross\n",
      "_equity_curve                             ...\n",
      "_trades                       Size  EntryB...\n",
      "dtype: object\n"
     ]
    }
   ],
   "source": [
    "from backtesting import Backtest, Strategy\n",
    "# Uncomment if you want to use the function of crossover instead of the \"hard\" way\n",
    "#from backtesting.lib import crossover\n",
    "\n",
    "# ignore warnings\n",
    "import warnings\n",
    "warnings.filterwarnings(\"ignore\")\n",
    "\n",
    "pip_value = 0.0001\n",
    "\n",
    "class SmaCross(Strategy):\n",
    "    \n",
    "    sma_fast_length = 9\n",
    "    sma_slow_length = 100\n",
    "    sl_pips = 50\n",
    "    tp_pips = 100\n",
    "    \n",
    "    def init(self):\n",
    "        # set up the indicators\n",
    "        self.smaFast = self.I(ta.sma, pd.Series(self.data.Close), self.sma_fast_length)\n",
    "        self.smaSlow = self.I(ta.sma, pd.Series(self.data.Close), self.sma_slow_length)\n",
    "\n",
    "    def next(self):\n",
    "        if (self.smaFast[-1] > self.smaSlow[-1]) and (self.smaFast[-2] < self.smaSlow[-2]): # alternate code -> if crossover(self.smaFast, self.smaSlow):\n",
    "            if self.position.size == 0:\n",
    "                sl = calculate_price(self.data.Close[-1], -1*self.sl_pips, pip_value)\n",
    "                tp = calculate_price(self.data.Close[-1], self.tp_pips, pip_value)\n",
    "                self.buy(limit=self.data.Close[-1], sl=sl, tp=tp)\n",
    "            elif self.position.is_short:\n",
    "                self.position.close()\n",
    "        if (self.smaFast[-1] < self.smaSlow[-1]) and (self.smaFast[-2] > self.smaSlow[-2]): # alternate code -> elif crossover(self.smaSlow, self.smaFast):\n",
    "            if self.position.size == 0:\n",
    "                sl = calculate_price(self.data.Close[-1], self.sl_pips, pip_value)\n",
    "                tp = calculate_price(self.data.Close[-1], -1*self.tp_pips, pip_value)\n",
    "                self.sell(limit=self.data.Close[-1],sl=sl, tp=tp)\n",
    "            elif self.position.is_long:\n",
    "                self.position.close()\n",
    "\n",
    "\n",
    "bt = Backtest(df, SmaCross, commission=.002,\n",
    "              exclusive_orders=True)\n",
    "stats = bt.run()\n",
    "print(stats)"
   ]
  },
  {
   "cell_type": "markdown",
   "source": [
    "Optimize"
   ],
   "metadata": {
    "collapsed": false
   },
   "id": "ca369736c8da1085"
  },
  {
   "cell_type": "markdown",
   "source": [],
   "metadata": {
    "collapsed": false
   },
   "id": "b350dd5e56237972"
  },
  {
   "cell_type": "code",
   "outputs": [
    {
     "data": {
      "text/plain": "Backtest.optimize:   0%|          | 0/200 [00:00<?, ?it/s]",
      "application/vnd.jupyter.widget-view+json": {
       "version_major": 2,
       "version_minor": 0,
       "model_id": "ed70c7e35bc9409d9744043dd4862cf5"
      }
     },
     "metadata": {},
     "output_type": "display_data"
    },
    {
     "ename": "InvalidParameterError",
     "evalue": "The 'criterion' parameter of ExtraTreesRegressor must be a str among {'poisson', 'squared_error', 'absolute_error', 'friedman_mse'}. Got 'mse' instead.",
     "output_type": "error",
     "traceback": [
      "\u001B[0;31m---------------------------------------------------------------------------\u001B[0m",
      "\u001B[0;31mInvalidParameterError\u001B[0m                     Traceback (most recent call last)",
      "Cell \u001B[0;32mIn[8], line 1\u001B[0m\n\u001B[0;32m----> 1\u001B[0m stats, heatmap, opt \u001B[38;5;241m=\u001B[39m \u001B[43mbt\u001B[49m\u001B[38;5;241;43m.\u001B[39;49m\u001B[43moptimize\u001B[49m\u001B[43m(\u001B[49m\n\u001B[1;32m      2\u001B[0m \u001B[43m    \u001B[49m\u001B[43msma_fast_length\u001B[49m\u001B[38;5;241;43m=\u001B[39;49m\u001B[43m(\u001B[49m\u001B[38;5;241;43m5\u001B[39;49m\u001B[43m,\u001B[49m\u001B[38;5;241;43m21\u001B[39;49m\u001B[43m,\u001B[49m\u001B[38;5;241;43m3\u001B[39;49m\u001B[43m)\u001B[49m\u001B[43m,\u001B[49m\n\u001B[1;32m      3\u001B[0m \u001B[43m    \u001B[49m\u001B[43msma_slow_length\u001B[49m\u001B[38;5;241;43m=\u001B[39;49m\u001B[43m(\u001B[49m\u001B[38;5;241;43m50\u001B[39;49m\u001B[43m,\u001B[49m\u001B[38;5;241;43m200\u001B[39;49m\u001B[43m,\u001B[49m\u001B[38;5;241;43m25\u001B[39;49m\u001B[43m)\u001B[49m\u001B[43m,\u001B[49m\n\u001B[1;32m      4\u001B[0m \u001B[43m    \u001B[49m\u001B[43msl_pips\u001B[49m\u001B[38;5;241;43m=\u001B[39;49m\u001B[43m(\u001B[49m\u001B[38;5;241;43m10\u001B[39;49m\u001B[43m,\u001B[49m\u001B[43m \u001B[49m\u001B[38;5;241;43m100\u001B[39;49m\u001B[43m,\u001B[49m\u001B[43m \u001B[49m\u001B[38;5;241;43m10\u001B[39;49m\u001B[43m)\u001B[49m\u001B[43m,\u001B[49m\n\u001B[1;32m      5\u001B[0m \u001B[43m    \u001B[49m\u001B[43mtp_pips\u001B[49m\u001B[38;5;241;43m=\u001B[39;49m\u001B[43m(\u001B[49m\u001B[38;5;241;43m10\u001B[39;49m\u001B[43m,\u001B[49m\u001B[43m \u001B[49m\u001B[38;5;241;43m100\u001B[39;49m\u001B[43m,\u001B[49m\u001B[43m \u001B[49m\u001B[38;5;241;43m10\u001B[39;49m\u001B[43m)\u001B[49m\u001B[43m,\u001B[49m\n\u001B[1;32m      6\u001B[0m \u001B[43m    \u001B[49m\u001B[43mmaximize\u001B[49m\u001B[38;5;241;43m=\u001B[39;49m\u001B[38;5;124;43m'\u001B[39;49m\u001B[38;5;124;43mReturn [\u001B[39;49m\u001B[38;5;124;43m%\u001B[39;49m\u001B[38;5;124;43m]\u001B[39;49m\u001B[38;5;124;43m'\u001B[39;49m\u001B[43m,\u001B[49m\n\u001B[1;32m      7\u001B[0m \n\u001B[1;32m      8\u001B[0m \u001B[43m    \u001B[49m\u001B[43mreturn_optimization\u001B[49m\u001B[38;5;241;43m=\u001B[39;49m\u001B[38;5;28;43;01mTrue\u001B[39;49;00m\u001B[43m,\u001B[49m\n\u001B[1;32m      9\u001B[0m \u001B[43m    \u001B[49m\u001B[43mmethod\u001B[49m\u001B[38;5;241;43m=\u001B[39;49m\u001B[38;5;124;43m'\u001B[39;49m\u001B[38;5;124;43mskopt\u001B[39;49m\u001B[38;5;124;43m'\u001B[39;49m\u001B[43m,\u001B[49m\n\u001B[1;32m     10\u001B[0m \u001B[43m    \u001B[49m\u001B[43mconstraint\u001B[49m\u001B[38;5;241;43m=\u001B[39;49m\u001B[43m \u001B[49m\u001B[38;5;28;43;01mlambda\u001B[39;49;00m\u001B[43m \u001B[49m\u001B[43mparam\u001B[49m\u001B[43m:\u001B[49m\u001B[43m \u001B[49m\u001B[43mparam\u001B[49m\u001B[38;5;241;43m.\u001B[39;49m\u001B[43msl_pips\u001B[49m\u001B[43m \u001B[49m\u001B[38;5;241;43m<\u001B[39;49m\u001B[43m \u001B[49m\u001B[43mparam\u001B[49m\u001B[38;5;241;43m.\u001B[39;49m\u001B[43mtp_pips\u001B[49m\u001B[43m)\u001B[49m\n\u001B[1;32m     12\u001B[0m stats\n",
      "File \u001B[0;32m~/PycharmProjects/Investment and Algorithmic Trading Notebooks/venv/lib/python3.9/site-packages/backtesting/backtesting.py:1490\u001B[0m, in \u001B[0;36mBacktest.optimize\u001B[0;34m(self, maximize, method, max_tries, constraint, return_heatmap, return_optimization, random_state, **kwargs)\u001B[0m\n\u001B[1;32m   1488\u001B[0m     output \u001B[38;5;241m=\u001B[39m _optimize_grid()\n\u001B[1;32m   1489\u001B[0m \u001B[38;5;28;01melif\u001B[39;00m method \u001B[38;5;241m==\u001B[39m \u001B[38;5;124m'\u001B[39m\u001B[38;5;124mskopt\u001B[39m\u001B[38;5;124m'\u001B[39m:\n\u001B[0;32m-> 1490\u001B[0m     output \u001B[38;5;241m=\u001B[39m \u001B[43m_optimize_skopt\u001B[49m\u001B[43m(\u001B[49m\u001B[43m)\u001B[49m\n\u001B[1;32m   1491\u001B[0m \u001B[38;5;28;01melse\u001B[39;00m:\n\u001B[1;32m   1492\u001B[0m     \u001B[38;5;28;01mraise\u001B[39;00m \u001B[38;5;167;01mValueError\u001B[39;00m(\u001B[38;5;124mf\u001B[39m\u001B[38;5;124m\"\u001B[39m\u001B[38;5;124mMethod should be \u001B[39m\u001B[38;5;124m'\u001B[39m\u001B[38;5;124mgrid\u001B[39m\u001B[38;5;124m'\u001B[39m\u001B[38;5;124m or \u001B[39m\u001B[38;5;124m'\u001B[39m\u001B[38;5;124mskopt\u001B[39m\u001B[38;5;124m'\u001B[39m\u001B[38;5;124m, not \u001B[39m\u001B[38;5;132;01m{\u001B[39;00mmethod\u001B[38;5;132;01m!r}\u001B[39;00m\u001B[38;5;124m\"\u001B[39m)\n",
      "File \u001B[0;32m~/PycharmProjects/Investment and Algorithmic Trading Notebooks/venv/lib/python3.9/site-packages/backtesting/backtesting.py:1456\u001B[0m, in \u001B[0;36mBacktest.optimize.<locals>._optimize_skopt\u001B[0;34m()\u001B[0m\n\u001B[1;32m   1452\u001B[0m \u001B[38;5;28;01mwith\u001B[39;00m warnings\u001B[38;5;241m.\u001B[39mcatch_warnings():\n\u001B[1;32m   1453\u001B[0m     warnings\u001B[38;5;241m.\u001B[39mfilterwarnings(\n\u001B[1;32m   1454\u001B[0m         \u001B[38;5;124m'\u001B[39m\u001B[38;5;124mignore\u001B[39m\u001B[38;5;124m'\u001B[39m, \u001B[38;5;124m'\u001B[39m\u001B[38;5;124mThe objective has been evaluated at this point before.\u001B[39m\u001B[38;5;124m'\u001B[39m)\n\u001B[0;32m-> 1456\u001B[0m     res \u001B[38;5;241m=\u001B[39m \u001B[43mforest_minimize\u001B[49m\u001B[43m(\u001B[49m\n\u001B[1;32m   1457\u001B[0m \u001B[43m        \u001B[49m\u001B[43mfunc\u001B[49m\u001B[38;5;241;43m=\u001B[39;49m\u001B[43mobjective_function\u001B[49m\u001B[43m,\u001B[49m\n\u001B[1;32m   1458\u001B[0m \u001B[43m        \u001B[49m\u001B[43mdimensions\u001B[49m\u001B[38;5;241;43m=\u001B[39;49m\u001B[43mdimensions\u001B[49m\u001B[43m,\u001B[49m\n\u001B[1;32m   1459\u001B[0m \u001B[43m        \u001B[49m\u001B[43mn_calls\u001B[49m\u001B[38;5;241;43m=\u001B[39;49m\u001B[43mmax_tries\u001B[49m\u001B[43m,\u001B[49m\n\u001B[1;32m   1460\u001B[0m \u001B[43m        \u001B[49m\u001B[43mbase_estimator\u001B[49m\u001B[38;5;241;43m=\u001B[39;49m\u001B[43mExtraTreesRegressor\u001B[49m\u001B[43m(\u001B[49m\u001B[43mn_estimators\u001B[49m\u001B[38;5;241;43m=\u001B[39;49m\u001B[38;5;241;43m20\u001B[39;49m\u001B[43m,\u001B[49m\u001B[43m \u001B[49m\u001B[43mmin_samples_leaf\u001B[49m\u001B[38;5;241;43m=\u001B[39;49m\u001B[38;5;241;43m2\u001B[39;49m\u001B[43m)\u001B[49m\u001B[43m,\u001B[49m\n\u001B[1;32m   1461\u001B[0m \u001B[43m        \u001B[49m\u001B[43macq_func\u001B[49m\u001B[38;5;241;43m=\u001B[39;49m\u001B[38;5;124;43m'\u001B[39;49m\u001B[38;5;124;43mLCB\u001B[39;49m\u001B[38;5;124;43m'\u001B[39;49m\u001B[43m,\u001B[49m\n\u001B[1;32m   1462\u001B[0m \u001B[43m        \u001B[49m\u001B[43mkappa\u001B[49m\u001B[38;5;241;43m=\u001B[39;49m\u001B[38;5;241;43m3\u001B[39;49m\u001B[43m,\u001B[49m\n\u001B[1;32m   1463\u001B[0m \u001B[43m        \u001B[49m\u001B[43mn_initial_points\u001B[49m\u001B[38;5;241;43m=\u001B[39;49m\u001B[38;5;28;43mmin\u001B[39;49m\u001B[43m(\u001B[49m\u001B[43mmax_tries\u001B[49m\u001B[43m,\u001B[49m\u001B[43m \u001B[49m\u001B[38;5;241;43m20\u001B[39;49m\u001B[43m \u001B[49m\u001B[38;5;241;43m+\u001B[39;49m\u001B[43m \u001B[49m\u001B[38;5;241;43m3\u001B[39;49m\u001B[43m \u001B[49m\u001B[38;5;241;43m*\u001B[39;49m\u001B[43m \u001B[49m\u001B[38;5;28;43mlen\u001B[39;49m\u001B[43m(\u001B[49m\u001B[43mkwargs\u001B[49m\u001B[43m)\u001B[49m\u001B[43m)\u001B[49m\u001B[43m,\u001B[49m\n\u001B[1;32m   1464\u001B[0m \u001B[43m        \u001B[49m\u001B[43minitial_point_generator\u001B[49m\u001B[38;5;241;43m=\u001B[39;49m\u001B[38;5;124;43m'\u001B[39;49m\u001B[38;5;124;43mlhs\u001B[39;49m\u001B[38;5;124;43m'\u001B[39;49m\u001B[43m,\u001B[49m\u001B[43m  \u001B[49m\u001B[38;5;66;43;03m# 'sobel' requires n_initial_points ~ 2**N\u001B[39;49;00m\n\u001B[1;32m   1465\u001B[0m \u001B[43m        \u001B[49m\u001B[43mcallback\u001B[49m\u001B[38;5;241;43m=\u001B[39;49m\u001B[43mDeltaXStopper\u001B[49m\u001B[43m(\u001B[49m\u001B[38;5;241;43m9e-7\u001B[39;49m\u001B[43m)\u001B[49m\u001B[43m,\u001B[49m\n\u001B[1;32m   1466\u001B[0m \u001B[43m        \u001B[49m\u001B[43mrandom_state\u001B[49m\u001B[38;5;241;43m=\u001B[39;49m\u001B[43mrandom_state\u001B[49m\u001B[43m)\u001B[49m\n\u001B[1;32m   1468\u001B[0m stats \u001B[38;5;241m=\u001B[39m \u001B[38;5;28mself\u001B[39m\u001B[38;5;241m.\u001B[39mrun(\u001B[38;5;241m*\u001B[39m\u001B[38;5;241m*\u001B[39m\u001B[38;5;28mdict\u001B[39m(\u001B[38;5;28mzip\u001B[39m(kwargs\u001B[38;5;241m.\u001B[39mkeys(), res\u001B[38;5;241m.\u001B[39mx)))\n\u001B[1;32m   1469\u001B[0m output \u001B[38;5;241m=\u001B[39m [stats]\n",
      "File \u001B[0;32m~/PycharmProjects/Investment and Algorithmic Trading Notebooks/venv/lib/python3.9/site-packages/skopt/optimizer/forest.py:186\u001B[0m, in \u001B[0;36mforest_minimize\u001B[0;34m(func, dimensions, base_estimator, n_calls, n_random_starts, n_initial_points, acq_func, initial_point_generator, x0, y0, random_state, verbose, callback, n_points, xi, kappa, n_jobs, model_queue_size)\u001B[0m\n\u001B[1;32m     10\u001B[0m \u001B[38;5;28;01mdef\u001B[39;00m \u001B[38;5;21mforest_minimize\u001B[39m(func, dimensions, base_estimator\u001B[38;5;241m=\u001B[39m\u001B[38;5;124m\"\u001B[39m\u001B[38;5;124mET\u001B[39m\u001B[38;5;124m\"\u001B[39m, n_calls\u001B[38;5;241m=\u001B[39m\u001B[38;5;241m100\u001B[39m,\n\u001B[1;32m     11\u001B[0m                     n_random_starts\u001B[38;5;241m=\u001B[39m\u001B[38;5;28;01mNone\u001B[39;00m, n_initial_points\u001B[38;5;241m=\u001B[39m\u001B[38;5;241m10\u001B[39m, acq_func\u001B[38;5;241m=\u001B[39m\u001B[38;5;124m\"\u001B[39m\u001B[38;5;124mEI\u001B[39m\u001B[38;5;124m\"\u001B[39m,\n\u001B[1;32m     12\u001B[0m                     initial_point_generator\u001B[38;5;241m=\u001B[39m\u001B[38;5;124m\"\u001B[39m\u001B[38;5;124mrandom\u001B[39m\u001B[38;5;124m\"\u001B[39m,\n\u001B[1;32m     13\u001B[0m                     x0\u001B[38;5;241m=\u001B[39m\u001B[38;5;28;01mNone\u001B[39;00m, y0\u001B[38;5;241m=\u001B[39m\u001B[38;5;28;01mNone\u001B[39;00m, random_state\u001B[38;5;241m=\u001B[39m\u001B[38;5;28;01mNone\u001B[39;00m, verbose\u001B[38;5;241m=\u001B[39m\u001B[38;5;28;01mFalse\u001B[39;00m,\n\u001B[1;32m     14\u001B[0m                     callback\u001B[38;5;241m=\u001B[39m\u001B[38;5;28;01mNone\u001B[39;00m, n_points\u001B[38;5;241m=\u001B[39m\u001B[38;5;241m10000\u001B[39m, xi\u001B[38;5;241m=\u001B[39m\u001B[38;5;241m0.01\u001B[39m, kappa\u001B[38;5;241m=\u001B[39m\u001B[38;5;241m1.96\u001B[39m,\n\u001B[1;32m     15\u001B[0m                     n_jobs\u001B[38;5;241m=\u001B[39m\u001B[38;5;241m1\u001B[39m, model_queue_size\u001B[38;5;241m=\u001B[39m\u001B[38;5;28;01mNone\u001B[39;00m):\n\u001B[1;32m     16\u001B[0m \u001B[38;5;250m    \u001B[39m\u001B[38;5;124;03m\"\"\"Sequential optimisation using decision trees.\u001B[39;00m\n\u001B[1;32m     17\u001B[0m \n\u001B[1;32m     18\u001B[0m \u001B[38;5;124;03m    A tree based regression model is used to model the expensive to evaluate\u001B[39;00m\n\u001B[0;32m   (...)\u001B[0m\n\u001B[1;32m    184\u001B[0m \u001B[38;5;124;03m        :class:`skopt.dummy_minimize`, :class:`skopt.gbrt_minimize`\u001B[39;00m\n\u001B[1;32m    185\u001B[0m \u001B[38;5;124;03m    \"\"\"\u001B[39;00m\n\u001B[0;32m--> 186\u001B[0m     \u001B[38;5;28;01mreturn\u001B[39;00m \u001B[43mbase_minimize\u001B[49m\u001B[43m(\u001B[49m\u001B[43mfunc\u001B[49m\u001B[43m,\u001B[49m\u001B[43m \u001B[49m\u001B[43mdimensions\u001B[49m\u001B[43m,\u001B[49m\u001B[43m \u001B[49m\u001B[43mbase_estimator\u001B[49m\u001B[43m,\u001B[49m\n\u001B[1;32m    187\u001B[0m \u001B[43m                         \u001B[49m\u001B[43mn_calls\u001B[49m\u001B[38;5;241;43m=\u001B[39;49m\u001B[43mn_calls\u001B[49m\u001B[43m,\u001B[49m\u001B[43m \u001B[49m\u001B[43mn_points\u001B[49m\u001B[38;5;241;43m=\u001B[39;49m\u001B[43mn_points\u001B[49m\u001B[43m,\u001B[49m\n\u001B[1;32m    188\u001B[0m \u001B[43m                         \u001B[49m\u001B[43mn_random_starts\u001B[49m\u001B[38;5;241;43m=\u001B[39;49m\u001B[43mn_random_starts\u001B[49m\u001B[43m,\u001B[49m\n\u001B[1;32m    189\u001B[0m \u001B[43m                         \u001B[49m\u001B[43mn_initial_points\u001B[49m\u001B[38;5;241;43m=\u001B[39;49m\u001B[43mn_initial_points\u001B[49m\u001B[43m,\u001B[49m\n\u001B[1;32m    190\u001B[0m \u001B[43m                         \u001B[49m\u001B[43minitial_point_generator\u001B[49m\u001B[38;5;241;43m=\u001B[39;49m\u001B[43minitial_point_generator\u001B[49m\u001B[43m,\u001B[49m\n\u001B[1;32m    191\u001B[0m \u001B[43m                         \u001B[49m\u001B[43mx0\u001B[49m\u001B[38;5;241;43m=\u001B[39;49m\u001B[43mx0\u001B[49m\u001B[43m,\u001B[49m\u001B[43m \u001B[49m\u001B[43my0\u001B[49m\u001B[38;5;241;43m=\u001B[39;49m\u001B[43my0\u001B[49m\u001B[43m,\u001B[49m\u001B[43m \u001B[49m\u001B[43mrandom_state\u001B[49m\u001B[38;5;241;43m=\u001B[39;49m\u001B[43mrandom_state\u001B[49m\u001B[43m,\u001B[49m\n\u001B[1;32m    192\u001B[0m \u001B[43m                         \u001B[49m\u001B[43mn_jobs\u001B[49m\u001B[38;5;241;43m=\u001B[39;49m\u001B[43mn_jobs\u001B[49m\u001B[43m,\u001B[49m\n\u001B[1;32m    193\u001B[0m \u001B[43m                         \u001B[49m\u001B[43macq_func\u001B[49m\u001B[38;5;241;43m=\u001B[39;49m\u001B[43macq_func\u001B[49m\u001B[43m,\u001B[49m\n\u001B[1;32m    194\u001B[0m \u001B[43m                         \u001B[49m\u001B[43mxi\u001B[49m\u001B[38;5;241;43m=\u001B[39;49m\u001B[43mxi\u001B[49m\u001B[43m,\u001B[49m\u001B[43m \u001B[49m\u001B[43mkappa\u001B[49m\u001B[38;5;241;43m=\u001B[39;49m\u001B[43mkappa\u001B[49m\u001B[43m,\u001B[49m\u001B[43m \u001B[49m\u001B[43mverbose\u001B[49m\u001B[38;5;241;43m=\u001B[39;49m\u001B[43mverbose\u001B[49m\u001B[43m,\u001B[49m\n\u001B[1;32m    195\u001B[0m \u001B[43m                         \u001B[49m\u001B[43mcallback\u001B[49m\u001B[38;5;241;43m=\u001B[39;49m\u001B[43mcallback\u001B[49m\u001B[43m,\u001B[49m\u001B[43m \u001B[49m\u001B[43macq_optimizer\u001B[49m\u001B[38;5;241;43m=\u001B[39;49m\u001B[38;5;124;43m\"\u001B[39;49m\u001B[38;5;124;43msampling\u001B[39;49m\u001B[38;5;124;43m\"\u001B[39;49m\u001B[43m,\u001B[49m\n\u001B[1;32m    196\u001B[0m \u001B[43m                         \u001B[49m\u001B[43mmodel_queue_size\u001B[49m\u001B[38;5;241;43m=\u001B[39;49m\u001B[43mmodel_queue_size\u001B[49m\u001B[43m)\u001B[49m\n",
      "File \u001B[0;32m~/PycharmProjects/Investment and Algorithmic Trading Notebooks/venv/lib/python3.9/site-packages/skopt/optimizer/base.py:300\u001B[0m, in \u001B[0;36mbase_minimize\u001B[0;34m(func, dimensions, base_estimator, n_calls, n_random_starts, n_initial_points, initial_point_generator, acq_func, acq_optimizer, x0, y0, random_state, verbose, callback, n_points, n_restarts_optimizer, xi, kappa, n_jobs, model_queue_size)\u001B[0m\n\u001B[1;32m    298\u001B[0m next_x \u001B[38;5;241m=\u001B[39m optimizer\u001B[38;5;241m.\u001B[39mask()\n\u001B[1;32m    299\u001B[0m next_y \u001B[38;5;241m=\u001B[39m func(next_x)\n\u001B[0;32m--> 300\u001B[0m result \u001B[38;5;241m=\u001B[39m \u001B[43moptimizer\u001B[49m\u001B[38;5;241;43m.\u001B[39;49m\u001B[43mtell\u001B[49m\u001B[43m(\u001B[49m\u001B[43mnext_x\u001B[49m\u001B[43m,\u001B[49m\u001B[43m \u001B[49m\u001B[43mnext_y\u001B[49m\u001B[43m)\u001B[49m\n\u001B[1;32m    301\u001B[0m result\u001B[38;5;241m.\u001B[39mspecs \u001B[38;5;241m=\u001B[39m specs\n\u001B[1;32m    302\u001B[0m \u001B[38;5;28;01mif\u001B[39;00m eval_callbacks(callbacks, result):\n",
      "File \u001B[0;32m~/PycharmProjects/Investment and Algorithmic Trading Notebooks/venv/lib/python3.9/site-packages/skopt/optimizer/optimizer.py:493\u001B[0m, in \u001B[0;36mOptimizer.tell\u001B[0;34m(self, x, y, fit)\u001B[0m\n\u001B[1;32m    490\u001B[0m         y \u001B[38;5;241m=\u001B[39m \u001B[38;5;28mlist\u001B[39m(y)\n\u001B[1;32m    491\u001B[0m         y[\u001B[38;5;241m1\u001B[39m] \u001B[38;5;241m=\u001B[39m log(y[\u001B[38;5;241m1\u001B[39m])\n\u001B[0;32m--> 493\u001B[0m \u001B[38;5;28;01mreturn\u001B[39;00m \u001B[38;5;28;43mself\u001B[39;49m\u001B[38;5;241;43m.\u001B[39;49m\u001B[43m_tell\u001B[49m\u001B[43m(\u001B[49m\u001B[43mx\u001B[49m\u001B[43m,\u001B[49m\u001B[43m \u001B[49m\u001B[43my\u001B[49m\u001B[43m,\u001B[49m\u001B[43m \u001B[49m\u001B[43mfit\u001B[49m\u001B[38;5;241;43m=\u001B[39;49m\u001B[43mfit\u001B[49m\u001B[43m)\u001B[49m\n",
      "File \u001B[0;32m~/PycharmProjects/Investment and Algorithmic Trading Notebooks/venv/lib/python3.9/site-packages/skopt/optimizer/optimizer.py:536\u001B[0m, in \u001B[0;36mOptimizer._tell\u001B[0;34m(self, x, y, fit)\u001B[0m\n\u001B[1;32m    534\u001B[0m \u001B[38;5;28;01mwith\u001B[39;00m warnings\u001B[38;5;241m.\u001B[39mcatch_warnings():\n\u001B[1;32m    535\u001B[0m     warnings\u001B[38;5;241m.\u001B[39msimplefilter(\u001B[38;5;124m\"\u001B[39m\u001B[38;5;124mignore\u001B[39m\u001B[38;5;124m\"\u001B[39m)\n\u001B[0;32m--> 536\u001B[0m     \u001B[43mest\u001B[49m\u001B[38;5;241;43m.\u001B[39;49m\u001B[43mfit\u001B[49m\u001B[43m(\u001B[49m\u001B[38;5;28;43mself\u001B[39;49m\u001B[38;5;241;43m.\u001B[39;49m\u001B[43mspace\u001B[49m\u001B[38;5;241;43m.\u001B[39;49m\u001B[43mtransform\u001B[49m\u001B[43m(\u001B[49m\u001B[38;5;28;43mself\u001B[39;49m\u001B[38;5;241;43m.\u001B[39;49m\u001B[43mXi\u001B[49m\u001B[43m)\u001B[49m\u001B[43m,\u001B[49m\u001B[43m \u001B[49m\u001B[38;5;28;43mself\u001B[39;49m\u001B[38;5;241;43m.\u001B[39;49m\u001B[43myi\u001B[49m\u001B[43m)\u001B[49m\n\u001B[1;32m    538\u001B[0m \u001B[38;5;28;01mif\u001B[39;00m \u001B[38;5;28mhasattr\u001B[39m(\u001B[38;5;28mself\u001B[39m, \u001B[38;5;124m\"\u001B[39m\u001B[38;5;124mnext_xs_\u001B[39m\u001B[38;5;124m\"\u001B[39m) \u001B[38;5;129;01mand\u001B[39;00m \u001B[38;5;28mself\u001B[39m\u001B[38;5;241m.\u001B[39macq_func \u001B[38;5;241m==\u001B[39m \u001B[38;5;124m\"\u001B[39m\u001B[38;5;124mgp_hedge\u001B[39m\u001B[38;5;124m\"\u001B[39m:\n\u001B[1;32m    539\u001B[0m     \u001B[38;5;28mself\u001B[39m\u001B[38;5;241m.\u001B[39mgains_ \u001B[38;5;241m-\u001B[39m\u001B[38;5;241m=\u001B[39m est\u001B[38;5;241m.\u001B[39mpredict(np\u001B[38;5;241m.\u001B[39mvstack(\u001B[38;5;28mself\u001B[39m\u001B[38;5;241m.\u001B[39mnext_xs_))\n",
      "File \u001B[0;32m~/PycharmProjects/Investment and Algorithmic Trading Notebooks/venv/lib/python3.9/site-packages/sklearn/base.py:1344\u001B[0m, in \u001B[0;36m_fit_context.<locals>.decorator.<locals>.wrapper\u001B[0;34m(estimator, *args, **kwargs)\u001B[0m\n\u001B[1;32m   1339\u001B[0m partial_fit_and_fitted \u001B[38;5;241m=\u001B[39m (\n\u001B[1;32m   1340\u001B[0m     fit_method\u001B[38;5;241m.\u001B[39m\u001B[38;5;18m__name__\u001B[39m \u001B[38;5;241m==\u001B[39m \u001B[38;5;124m\"\u001B[39m\u001B[38;5;124mpartial_fit\u001B[39m\u001B[38;5;124m\"\u001B[39m \u001B[38;5;129;01mand\u001B[39;00m _is_fitted(estimator)\n\u001B[1;32m   1341\u001B[0m )\n\u001B[1;32m   1343\u001B[0m \u001B[38;5;28;01mif\u001B[39;00m \u001B[38;5;129;01mnot\u001B[39;00m global_skip_validation \u001B[38;5;129;01mand\u001B[39;00m \u001B[38;5;129;01mnot\u001B[39;00m partial_fit_and_fitted:\n\u001B[0;32m-> 1344\u001B[0m     \u001B[43mestimator\u001B[49m\u001B[38;5;241;43m.\u001B[39;49m\u001B[43m_validate_params\u001B[49m\u001B[43m(\u001B[49m\u001B[43m)\u001B[49m\n\u001B[1;32m   1346\u001B[0m \u001B[38;5;28;01mwith\u001B[39;00m config_context(\n\u001B[1;32m   1347\u001B[0m     skip_parameter_validation\u001B[38;5;241m=\u001B[39m(\n\u001B[1;32m   1348\u001B[0m         prefer_skip_nested_validation \u001B[38;5;129;01mor\u001B[39;00m global_skip_validation\n\u001B[1;32m   1349\u001B[0m     )\n\u001B[1;32m   1350\u001B[0m ):\n\u001B[1;32m   1351\u001B[0m     \u001B[38;5;28;01mreturn\u001B[39;00m fit_method(estimator, \u001B[38;5;241m*\u001B[39margs, \u001B[38;5;241m*\u001B[39m\u001B[38;5;241m*\u001B[39mkwargs)\n",
      "File \u001B[0;32m~/PycharmProjects/Investment and Algorithmic Trading Notebooks/venv/lib/python3.9/site-packages/sklearn/base.py:666\u001B[0m, in \u001B[0;36mBaseEstimator._validate_params\u001B[0;34m(self)\u001B[0m\n\u001B[1;32m    658\u001B[0m \u001B[38;5;28;01mdef\u001B[39;00m \u001B[38;5;21m_validate_params\u001B[39m(\u001B[38;5;28mself\u001B[39m):\n\u001B[1;32m    659\u001B[0m \u001B[38;5;250m    \u001B[39m\u001B[38;5;124;03m\"\"\"Validate types and values of constructor parameters\u001B[39;00m\n\u001B[1;32m    660\u001B[0m \n\u001B[1;32m    661\u001B[0m \u001B[38;5;124;03m    The expected type and values must be defined in the `_parameter_constraints`\u001B[39;00m\n\u001B[0;32m   (...)\u001B[0m\n\u001B[1;32m    664\u001B[0m \u001B[38;5;124;03m    accepted constraints.\u001B[39;00m\n\u001B[1;32m    665\u001B[0m \u001B[38;5;124;03m    \"\"\"\u001B[39;00m\n\u001B[0;32m--> 666\u001B[0m     \u001B[43mvalidate_parameter_constraints\u001B[49m\u001B[43m(\u001B[49m\n\u001B[1;32m    667\u001B[0m \u001B[43m        \u001B[49m\u001B[38;5;28;43mself\u001B[39;49m\u001B[38;5;241;43m.\u001B[39;49m\u001B[43m_parameter_constraints\u001B[49m\u001B[43m,\u001B[49m\n\u001B[1;32m    668\u001B[0m \u001B[43m        \u001B[49m\u001B[38;5;28;43mself\u001B[39;49m\u001B[38;5;241;43m.\u001B[39;49m\u001B[43mget_params\u001B[49m\u001B[43m(\u001B[49m\u001B[43mdeep\u001B[49m\u001B[38;5;241;43m=\u001B[39;49m\u001B[38;5;28;43;01mFalse\u001B[39;49;00m\u001B[43m)\u001B[49m\u001B[43m,\u001B[49m\n\u001B[1;32m    669\u001B[0m \u001B[43m        \u001B[49m\u001B[43mcaller_name\u001B[49m\u001B[38;5;241;43m=\u001B[39;49m\u001B[38;5;28;43mself\u001B[39;49m\u001B[38;5;241;43m.\u001B[39;49m\u001B[38;5;18;43m__class__\u001B[39;49m\u001B[38;5;241;43m.\u001B[39;49m\u001B[38;5;18;43m__name__\u001B[39;49m\u001B[43m,\u001B[49m\n\u001B[1;32m    670\u001B[0m \u001B[43m    \u001B[49m\u001B[43m)\u001B[49m\n",
      "File \u001B[0;32m~/PycharmProjects/Investment and Algorithmic Trading Notebooks/venv/lib/python3.9/site-packages/sklearn/utils/_param_validation.py:95\u001B[0m, in \u001B[0;36mvalidate_parameter_constraints\u001B[0;34m(parameter_constraints, params, caller_name)\u001B[0m\n\u001B[1;32m     89\u001B[0m \u001B[38;5;28;01melse\u001B[39;00m:\n\u001B[1;32m     90\u001B[0m     constraints_str \u001B[38;5;241m=\u001B[39m (\n\u001B[1;32m     91\u001B[0m         \u001B[38;5;124mf\u001B[39m\u001B[38;5;124m\"\u001B[39m\u001B[38;5;132;01m{\u001B[39;00m\u001B[38;5;124m'\u001B[39m\u001B[38;5;124m, \u001B[39m\u001B[38;5;124m'\u001B[39m\u001B[38;5;241m.\u001B[39mjoin([\u001B[38;5;28mstr\u001B[39m(c)\u001B[38;5;250m \u001B[39m\u001B[38;5;28;01mfor\u001B[39;00m\u001B[38;5;250m \u001B[39mc\u001B[38;5;250m \u001B[39m\u001B[38;5;129;01min\u001B[39;00m\u001B[38;5;250m \u001B[39mconstraints[:\u001B[38;5;241m-\u001B[39m\u001B[38;5;241m1\u001B[39m]])\u001B[38;5;132;01m}\u001B[39;00m\u001B[38;5;124m or\u001B[39m\u001B[38;5;124m\"\u001B[39m\n\u001B[1;32m     92\u001B[0m         \u001B[38;5;124mf\u001B[39m\u001B[38;5;124m\"\u001B[39m\u001B[38;5;124m \u001B[39m\u001B[38;5;132;01m{\u001B[39;00mconstraints[\u001B[38;5;241m-\u001B[39m\u001B[38;5;241m1\u001B[39m]\u001B[38;5;132;01m}\u001B[39;00m\u001B[38;5;124m\"\u001B[39m\n\u001B[1;32m     93\u001B[0m     )\n\u001B[0;32m---> 95\u001B[0m \u001B[38;5;28;01mraise\u001B[39;00m InvalidParameterError(\n\u001B[1;32m     96\u001B[0m     \u001B[38;5;124mf\u001B[39m\u001B[38;5;124m\"\u001B[39m\u001B[38;5;124mThe \u001B[39m\u001B[38;5;132;01m{\u001B[39;00mparam_name\u001B[38;5;132;01m!r}\u001B[39;00m\u001B[38;5;124m parameter of \u001B[39m\u001B[38;5;132;01m{\u001B[39;00mcaller_name\u001B[38;5;132;01m}\u001B[39;00m\u001B[38;5;124m must be\u001B[39m\u001B[38;5;124m\"\u001B[39m\n\u001B[1;32m     97\u001B[0m     \u001B[38;5;124mf\u001B[39m\u001B[38;5;124m\"\u001B[39m\u001B[38;5;124m \u001B[39m\u001B[38;5;132;01m{\u001B[39;00mconstraints_str\u001B[38;5;132;01m}\u001B[39;00m\u001B[38;5;124m. Got \u001B[39m\u001B[38;5;132;01m{\u001B[39;00mparam_val\u001B[38;5;132;01m!r}\u001B[39;00m\u001B[38;5;124m instead.\u001B[39m\u001B[38;5;124m\"\u001B[39m\n\u001B[1;32m     98\u001B[0m )\n",
      "\u001B[0;31mInvalidParameterError\u001B[0m: The 'criterion' parameter of ExtraTreesRegressor must be a str among {'poisson', 'squared_error', 'absolute_error', 'friedman_mse'}. Got 'mse' instead."
     ]
    }
   ],
   "source": [
    "stats, heatmap, opt = bt.optimize(\n",
    "    sma_fast_length=(5,21,3),\n",
    "    sma_slow_length=(50,200,25),\n",
    "    sl_pips=(10, 100, 10),\n",
    "    tp_pips=(10, 100, 10),\n",
    "    maximize='Return [%]',\n",
    "\n",
    "    return_optimization=True,\n",
    "    method='skopt',\n",
    "    constraint= lambda param: param.sl_pips < param.tp_pips)\n",
    "\n",
    "stats"
   ],
   "metadata": {
    "collapsed": false,
    "ExecuteTime": {
     "end_time": "2024-02-15T05:19:34.314628Z",
     "start_time": "2024-02-15T05:19:30.660627Z"
    }
   },
   "id": "3567e718b860661d",
   "execution_count": 8
  },
  {
   "cell_type": "code",
   "outputs": [],
   "source": [
    "heatmap"
   ],
   "metadata": {
    "collapsed": false,
    "ExecuteTime": {
     "start_time": "2024-02-15T05:15:25.691622Z"
    }
   },
   "id": "2accf6f3dc571dae",
   "execution_count": null
  }
 ],
 "metadata": {
  "kernelspec": {
   "display_name": "Python 3",
   "language": "python",
   "name": "python3"
  },
  "language_info": {
   "codemirror_mode": {
    "name": "ipython",
    "version": 2
   },
   "file_extension": ".py",
   "mimetype": "text/x-python",
   "name": "python",
   "nbconvert_exporter": "python",
   "pygments_lexer": "ipython2",
   "version": "2.7.6"
  }
 },
 "nbformat": 4,
 "nbformat_minor": 5
}
