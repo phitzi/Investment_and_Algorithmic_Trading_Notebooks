{
 "cells": [
  {
   "metadata": {},
   "cell_type": "code",
   "outputs": [],
   "execution_count": null,
   "source": [
    "# Import the necessary libraries and set up environment variables\n",
    "# This cell initializes the required packages and defines API token and main currency\n",
    "import os\n",
    "import pandas as pd\n",
    "import numpy as np\n",
    "import requests\n",
    "import json\n",
    "\n",
    "\n",
    "api_token = os.getenv('EODHD_API_TOKEN')\n",
    "main_currency = 'EUR'\n"
   ],
   "id": "25f0906876c60d8d"
  },
  {
   "metadata": {},
   "cell_type": "code",
   "outputs": [],
   "execution_count": null,
   "source": [
    "# Load portfolio data from CSV file and convert to dictionary format\n",
    "# This cell reads the portfolio data and transforms it into a more accessible structure\n",
    "df = pd.read_csv('portfolio_1.csv')\n",
    "portfolio = {row['asset']: row.to_dict() for _, row in df.iterrows()}\n",
    "df\n"
   ],
   "id": "47c920de1e105166"
  },
  {
   "metadata": {},
   "cell_type": "code",
   "outputs": [],
   "execution_count": null,
   "source": [
    "# Fetch and update fundamental data for each asset in the portfolio\n",
    "# This cell retrieves asset information like name, country, type, and sector from the API\n",
    "def update_fundamentals(api_token, portfolio):\n",
    "\n",
    "    for asset, details in portfolio.items():\n",
    "        try:\n",
    "            # get fundamental data\n",
    "            url = f'https://eodhd.com/api/fundamentals/{asset}'\n",
    "            query = {'api_token': api_token, \"fmt\": \"json\"}\n",
    "            response = requests.get(url, params=query)\n",
    "            fundamentals = response.json()\n",
    "            portfolio[asset].update({'fundamentals': fundamentals})\n",
    "            portfolio[asset]['name'] = fundamentals.get('General', {}).get('Name', asset)\n",
    "            portfolio[asset]['country'] = fundamentals.get('General', {}).get('CountryISO', 'Unknown')\n",
    "            portfolio[asset]['type'] = fundamentals.get('General', {}).get('Type', 'Unknown')\n",
    "            portfolio[asset]['currency'] = fundamentals.get('General', {}).get('CurrencyCode',\n",
    "                                                                            portfolio[asset]['currency'])\n",
    "\n",
    "            if portfolio[asset]['type'] == 'ETF':\n",
    "                if pd.isna(portfolio[asset]['country_exposure']):\n",
    "                    portfolio[asset]['country_exposure'] = fundamentals.get('ETF_Data', {}).get('World_Regions', 'Unknown')\n",
    "                else:\n",
    "                    print(f'Country exposure already set for {asset} as ', portfolio\n",
    "                    [asset]['country_exposure'])\n",
    "                if pd.isna(portfolio[asset]['sector']):\n",
    "                    portfolio[asset]['sector'] = fundamentals.get('ETF_Data', {}).get('Sector_Weights', 'Unknown')\n",
    "                else:\n",
    "                    print(f'Sector exposure already set for {asset} as ', portfolio[asset]['sector'])\n",
    "            elif portfolio[asset]['type'] == 'Common Stock':\n",
    "                portfolio[asset]['country_exposure'] = 'Undefined'\n",
    "                portfolio[asset]['sector'] = fundamentals.get('General', {}).get('Sector', 'Undefined')\n",
    "            elif portfolio[asset]['type'] == 'Crypto':\n",
    "                portfolio[asset]['sector'] = fundamentals.get('General', {}).get('Sector', 'Crypto')\n",
    "            else:\n",
    "                print(f'Cannot identify country exposure for {asset} with type {portfolio[asset][\"type\"]}.')\n",
    "\n",
    "        except requests.exceptions.RequestException as e:\n",
    "            print(f\"Error fetching data for {asset}: {str(e)}\")\n",
    "    return portfolio\n",
    "\n",
    "portfolio = update_fundamentals(api_token, portfolio)"
   ],
   "id": "542bd3cbc1fb093"
  },
  {
   "metadata": {},
   "cell_type": "code",
   "outputs": [],
   "execution_count": null,
   "source": [
    "# Retrieve historical price data and calculate current values for each asset\n",
    "# This cell fetches price history, computes last price, change percentage, total value, and profit/loss\n",
    "def get_prices(api_token, portfolio):\n",
    "    dfs_to_concat = []\n",
    "    for asset, details in portfolio.items():\n",
    "        try:\n",
    "            # get prices history and last price\n",
    "            url = f'https://eodhd.com/api/eod/{asset}'\n",
    "            query = {'api_token': api_token, \"fmt\": \"json\"}\n",
    "            response = requests.get(url, params=query)\n",
    "            if response.status_code != 200:\n",
    "                print(f\"Error fetching data for {asset}: {response.status_code}\")\n",
    "                portfolio[asset]['previous_price'] = np.nan\n",
    "                portfolio[asset]['last_price'] = np.nan\n",
    "                portfolio[asset]['change_perc'] = np.nan\n",
    "                portfolio[asset]['total_value'] = np.nan\n",
    "                portfolio[asset]['pnl'] = np.nan\n",
    "            else:\n",
    "                data_eod_history = response.json()\n",
    "                df_prices = pd.DataFrame(data_eod_history)\n",
    "                df_prices['date'] = pd.to_datetime(df_prices['date'])\n",
    "                df_prices = df_prices.set_index('date')['adjusted_close']\n",
    "                portfolio[asset]['last_price'] = df_prices.sort_index().iloc[-1]\n",
    "                portfolio[asset]['previous_price'] = df_prices.sort_index().iloc[-2]\n",
    "                portfolio[asset]['change_perc'] = round((portfolio[asset]['last_price'] - portfolio[asset]['previous_price']) / portfolio[asset]['previous_price'] * 100, 2)\n",
    "                portfolio[asset]['total_value'] = portfolio[asset]['last_price'] * portfolio[asset]['quantity']\n",
    "                portfolio[asset]['pnl'] = portfolio[asset]['total_value'] - (portfolio[asset]['avg_weighted_purchase_price']*portfolio[asset]['quantity'])\n",
    "                df_prices = df_prices.to_frame(name=f'{asset}')\n",
    "                dfs_to_concat.append(df_prices)\n",
    "        except requests.exceptions.RequestException as e:\n",
    "            print(f\"Error fetching data for {asset}: {str(e)}\")\n",
    "\n",
    "    prices = pd.concat(dfs_to_concat, axis=1)\n",
    "    prices = prices.ffill()\n",
    "\n",
    "    return portfolio, prices\n",
    "\n",
    "portfolio, prices = get_prices(api_token, portfolio)"
   ],
   "id": "c716cbbc783db8db"
  },
  {
   "metadata": {
    "ExecuteTime": {
     "end_time": "2025-05-04T05:37:44.358113Z",
     "start_time": "2025-05-04T05:37:41.134495Z"
    }
   },
   "cell_type": "code",
   "source": [
    "# Fetch currency exchange rates for all currencies in the portfolio\n",
    "# This cell identifies unique currencies, retrieves their exchange rates, and calculates conversion rates to the main currency\n",
    "def get_currencies(portfolio, api_token, main_currency='EUR'):\n",
    "    unique_currencies = list(\n",
    "        {str(data.get('currency')).strip() for data in portfolio.values() if pd.notna(data.get('currency'))})\n",
    "    if main_currency not in unique_currencies:\n",
    "        unique_currencies.append(main_currency)\n",
    "\n",
    "    currencies = {}\n",
    "    for currency in unique_currencies:\n",
    "        currencies[currency] = {}\n",
    "\n",
    "        url = f'https://eodhd.com/api/eod/{currency}.FOREX?order=d'\n",
    "        query = {'api_token': api_token, \"fmt\": \"json\"}\n",
    "        response = requests.get(url, params=query)\n",
    "        if response.status_code != 200:\n",
    "            print(f\"Error fetching data for USD/{currency}: {response.status_code}\")\n",
    "            currencies[currency]['rate_to_USD'] = np.nan\n",
    "        else:\n",
    "            data = response.json()\n",
    "            currencies[currency]['rate_to_USD'] = data[0]['close']\n",
    "\n",
    "    for currency in unique_currencies:\n",
    "        if currency == main_currency:\n",
    "            currencies[currency]['rate_to_main'] = 1\n",
    "            continue\n",
    "        else:\n",
    "            if currency == 'USD':\n",
    "                currencies[currency]['rate_to_main'] = 1 / currencies[main_currency]['rate_to_USD']\n",
    "            else:\n",
    "                currencies[currency]['rate_to_main'] = currencies[currency]['rate_to_USD'] / currencies[main_currency][\n",
    "                    'rate_to_USD']\n",
    "    return currencies\n",
    "\n",
    "currencies = get_currencies(portfolio, api_token, main_currency)\n",
    "currencies"
   ],
   "id": "8c3318f5e3b75f07",
   "outputs": [
    {
     "data": {
      "text/plain": [
       "{'USD': {'rate_to_USD': 1, 'rate_to_main': 1.1296882060551288},\n",
       " 'EUR': {'rate_to_USD': 0.8852, 'rate_to_main': 1}}"
      ]
     },
     "execution_count": 54,
     "metadata": {},
     "output_type": "execute_result"
    }
   ],
   "execution_count": 54
  },
  {
   "metadata": {},
   "cell_type": "code",
   "outputs": [],
   "execution_count": null,
   "source": [
    "# Convert all asset values to the main currency using exchange rates\n",
    "# This cell calculates total value and profit/loss in the portfolio's main currency\n",
    "def update_value_in_main_currency(portfolio, prices, currencies):\n",
    "    for asset, details in portfolio.items():\n",
    "        if pd.notna(details.get('currency')):\n",
    "            portfolio[asset]['total_value_in_main_currency'] = portfolio[asset]['total_value'] / currencies[details['currency']]['rate_to_main']\n",
    "            portfolio[asset]['pnl_in_main_currency'] = portfolio[asset]['pnl'] / currencies[details['currency']]['rate_to_main']\n",
    "        else:\n",
    "            raise ValueError(f\"Currency not defined for asset {asset}\")\n",
    "\n",
    "    return portfolio\n",
    "\n",
    "portfolio = update_value_in_main_currency(portfolio, prices, currencies)"
   ],
   "id": "e81b1a09810592c3"
  },
  {
   "metadata": {},
   "cell_type": "code",
   "outputs": [],
   "execution_count": null,
   "source": [
    "# Calculate the weight of each asset in the portfolio\n",
    "# This cell determines what percentage of the total portfolio value each asset represents\n",
    "def update_weights(portfolio):\n",
    "    total_portfolio_value = sum(asset['total_value_in_main_currency'] for asset in portfolio.values())\n",
    "    for asset in portfolio.values():\n",
    "        asset['weight'] = round((asset['total_value_in_main_currency'] / total_portfolio_value) * 100, 2)\n",
    "    return portfolio\n",
    "\n",
    "portfolio = update_weights(portfolio)"
   ],
   "id": "675520590f8fd840"
  },
  {
   "metadata": {},
   "cell_type": "code",
   "outputs": [],
   "execution_count": null,
   "source": [
    "# Save the processed portfolio data to files for use in the dashboard\n",
    "# This cell exports the portfolio, prices, and currency data to JSON and CSV files\n",
    "with open(\"portfolio.json\", 'w') as f:\n",
    "    json.dump(portfolio, f, indent=4)\n",
    "\n",
    "prices.to_csv('prices.csv')\n",
    "\n",
    "with open(\"currencies.json\", 'w') as f:\n",
    "    json.dump(currencies, f, indent=4)\n"
   ],
   "id": "d3f1235346095b6b"
  }
 ],
 "metadata": {
  "kernelspec": {
   "display_name": "Python 3",
   "language": "python",
   "name": "python3"
  },
  "language_info": {
   "codemirror_mode": {
    "name": "ipython",
    "version": 2
   },
   "file_extension": ".py",
   "mimetype": "text/x-python",
   "name": "python",
   "nbconvert_exporter": "python",
   "pygments_lexer": "ipython2",
   "version": "2.7.6"
  }
 },
 "nbformat": 4,
 "nbformat_minor": 5
}
