{
 "cells": [
  {
   "cell_type": "code",
   "id": "initial_id",
   "metadata": {
    "collapsed": true,
    "ExecuteTime": {
     "end_time": "2025-10-16T04:29:05.643938Z",
     "start_time": "2025-10-16T04:29:05.618448Z"
    }
   },
   "source": [
    "import os\n",
    "import json\n",
    "from typing import Dict, List\n",
    "from itertools import permutations\n",
    "import requests\n",
    "import requests_cache\n",
    "import pandas as pd\n",
    "import matplotlib.pyplot as plt\n",
    "\n",
    "import warnings\n",
    "warnings.filterwarnings(\"ignore\")\n",
    "\n",
    "# Configure EODHD API token from environment variable\n",
    "api_token = os.environ.get('EODHD_API_TOKEN')\n",
    "\n",
    "# Cache HTTP requests to avoid hitting rate limits and speed up reruns\n",
    "requests_cache.install_cache('cache')  # creates/uses cache.sqlite in project root\n",
    "\n",
    "currencies_universe = ['USD','EUR','GBP']\n",
    "window = 5"
   ],
   "outputs": [],
   "execution_count": 58
  },
  {
   "metadata": {
    "ExecuteTime": {
     "end_time": "2025-10-16T04:29:05.680429Z",
     "start_time": "2025-10-16T04:29:05.648271Z"
    }
   },
   "cell_type": "code",
   "source": [
    "CUR = 'EUR.FOREX'\n",
    "url = f'https://eodhd.com/api/exchange-symbol-list/FOREX'\n",
    "query = {'api_token': api_token, \"fmt\": \"json\"}\n",
    "data = requests.get(url, params=query)\n",
    "if data.status_code != 200:\n",
    "    print(f\"Error: {data.status_code}\")\n",
    "    print(data.text)\n",
    "\n",
    "data = data.json()\n",
    "df = pd.DataFrame(data)\n",
    "\n",
    "pairs = []\n",
    "\n",
    "existing_codes = set(df['Code'].dropna().astype(str))\n",
    "new_pairs = []\n",
    "missing = []\n",
    "\n",
    "for base, quote in permutations(currencies_universe, 2):\n",
    "    code = f'{base}{quote}'\n",
    "    if code in existing_codes:\n",
    "        new_pairs.append(code)\n",
    "    else:\n",
    "        missing.append(code)\n",
    "\n",
    "pairs = list(dict.fromkeys(pairs + new_pairs))"
   ],
   "id": "94557818e58d6dfd",
   "outputs": [],
   "execution_count": 59
  },
  {
   "metadata": {
    "ExecuteTime": {
     "end_time": "2025-10-16T04:29:05.836302Z",
     "start_time": "2025-10-16T04:29:05.685085Z"
    }
   },
   "cell_type": "code",
   "source": [
    "def fetch_eod_pair(pair: str) -> pd.Series:\n",
    "    symbol = f\"{pair}.FOREX\"\n",
    "    url = f\"https://eodhd.com/api/eod/{symbol}\"\n",
    "    params = {\n",
    "        'api_token': api_token,\n",
    "        'fmt': 'json',\n",
    "        'from': '2003-01-01',\n",
    "        'order': 'a'  # ascending by date\n",
    "    }\n",
    "    data = requests.get(url, params=params).json()\n",
    "    df = pd.DataFrame(data)\n",
    "    df['date'] = pd.to_datetime(df['date'])\n",
    "    df = df.sort_values('date').set_index('date')\n",
    "    s = df['close'].astype(float)\n",
    "    s.name = pair\n",
    "    return s\n",
    "\n",
    "all_series: List[pd.Series] = []\n",
    "for i, pair in enumerate(pairs, start=1):\n",
    "    s = fetch_eod_pair(pair)\n",
    "    if not s.empty:\n",
    "        all_series.append(s)\n",
    "    else:\n",
    "        print(f\"Skipping {pair} (no data)\")\n",
    "\n",
    "rates_df = pd.concat(all_series, axis=1, join='outer').sort_index()\n",
    "\n",
    "rates_df = rates_df.ffill()\n",
    "rates_df"
   ],
   "id": "b1edff9685f1f90c",
   "outputs": [
    {
     "data": {
      "text/plain": [
       "            USDEUR  USDGBP  EURUSD  EURGBP  GBPUSD  GBPEUR\n",
       "date                                                      \n",
       "2003-01-01     NaN     NaN  1.0360     NaN  1.6101     NaN\n",
       "2003-01-02  0.9651  0.6273  1.0410  0.6500  1.5939  1.5385\n",
       "2003-01-03  0.9595  0.6214  1.0410  0.6476  1.6091  1.5442\n",
       "2003-01-04  0.9595  0.6214  1.0417  0.6476  1.6091  1.5442\n",
       "2003-01-05  0.9595  0.6214  1.0467  0.6476  1.6091  1.5442\n",
       "...            ...     ...     ...     ...     ...     ...\n",
       "2025-09-29  0.8541  0.7448  1.1698  0.8726  1.3405  1.1450\n",
       "2025-09-30  0.8524  0.7437  1.1698  0.8726  1.3405  1.1459\n",
       "2025-10-01  0.8521  0.7420  1.1698  0.8726  1.3405  1.1490\n",
       "2025-10-02  0.8522  0.7441  1.1698  0.8726  1.3405  1.1471\n",
       "2025-10-03  0.8529  0.7418  1.1698  0.8726  1.3405  1.1476\n",
       "\n",
       "[7677 rows x 6 columns]"
      ],
      "text/html": [
       "<div>\n",
       "<style scoped>\n",
       "    .dataframe tbody tr th:only-of-type {\n",
       "        vertical-align: middle;\n",
       "    }\n",
       "\n",
       "    .dataframe tbody tr th {\n",
       "        vertical-align: top;\n",
       "    }\n",
       "\n",
       "    .dataframe thead th {\n",
       "        text-align: right;\n",
       "    }\n",
       "</style>\n",
       "<table border=\"1\" class=\"dataframe\">\n",
       "  <thead>\n",
       "    <tr style=\"text-align: right;\">\n",
       "      <th></th>\n",
       "      <th>USDEUR</th>\n",
       "      <th>USDGBP</th>\n",
       "      <th>EURUSD</th>\n",
       "      <th>EURGBP</th>\n",
       "      <th>GBPUSD</th>\n",
       "      <th>GBPEUR</th>\n",
       "    </tr>\n",
       "    <tr>\n",
       "      <th>date</th>\n",
       "      <th></th>\n",
       "      <th></th>\n",
       "      <th></th>\n",
       "      <th></th>\n",
       "      <th></th>\n",
       "      <th></th>\n",
       "    </tr>\n",
       "  </thead>\n",
       "  <tbody>\n",
       "    <tr>\n",
       "      <th>2003-01-01</th>\n",
       "      <td>NaN</td>\n",
       "      <td>NaN</td>\n",
       "      <td>1.0360</td>\n",
       "      <td>NaN</td>\n",
       "      <td>1.6101</td>\n",
       "      <td>NaN</td>\n",
       "    </tr>\n",
       "    <tr>\n",
       "      <th>2003-01-02</th>\n",
       "      <td>0.9651</td>\n",
       "      <td>0.6273</td>\n",
       "      <td>1.0410</td>\n",
       "      <td>0.6500</td>\n",
       "      <td>1.5939</td>\n",
       "      <td>1.5385</td>\n",
       "    </tr>\n",
       "    <tr>\n",
       "      <th>2003-01-03</th>\n",
       "      <td>0.9595</td>\n",
       "      <td>0.6214</td>\n",
       "      <td>1.0410</td>\n",
       "      <td>0.6476</td>\n",
       "      <td>1.6091</td>\n",
       "      <td>1.5442</td>\n",
       "    </tr>\n",
       "    <tr>\n",
       "      <th>2003-01-04</th>\n",
       "      <td>0.9595</td>\n",
       "      <td>0.6214</td>\n",
       "      <td>1.0417</td>\n",
       "      <td>0.6476</td>\n",
       "      <td>1.6091</td>\n",
       "      <td>1.5442</td>\n",
       "    </tr>\n",
       "    <tr>\n",
       "      <th>2003-01-05</th>\n",
       "      <td>0.9595</td>\n",
       "      <td>0.6214</td>\n",
       "      <td>1.0467</td>\n",
       "      <td>0.6476</td>\n",
       "      <td>1.6091</td>\n",
       "      <td>1.5442</td>\n",
       "    </tr>\n",
       "    <tr>\n",
       "      <th>...</th>\n",
       "      <td>...</td>\n",
       "      <td>...</td>\n",
       "      <td>...</td>\n",
       "      <td>...</td>\n",
       "      <td>...</td>\n",
       "      <td>...</td>\n",
       "    </tr>\n",
       "    <tr>\n",
       "      <th>2025-09-29</th>\n",
       "      <td>0.8541</td>\n",
       "      <td>0.7448</td>\n",
       "      <td>1.1698</td>\n",
       "      <td>0.8726</td>\n",
       "      <td>1.3405</td>\n",
       "      <td>1.1450</td>\n",
       "    </tr>\n",
       "    <tr>\n",
       "      <th>2025-09-30</th>\n",
       "      <td>0.8524</td>\n",
       "      <td>0.7437</td>\n",
       "      <td>1.1698</td>\n",
       "      <td>0.8726</td>\n",
       "      <td>1.3405</td>\n",
       "      <td>1.1459</td>\n",
       "    </tr>\n",
       "    <tr>\n",
       "      <th>2025-10-01</th>\n",
       "      <td>0.8521</td>\n",
       "      <td>0.7420</td>\n",
       "      <td>1.1698</td>\n",
       "      <td>0.8726</td>\n",
       "      <td>1.3405</td>\n",
       "      <td>1.1490</td>\n",
       "    </tr>\n",
       "    <tr>\n",
       "      <th>2025-10-02</th>\n",
       "      <td>0.8522</td>\n",
       "      <td>0.7441</td>\n",
       "      <td>1.1698</td>\n",
       "      <td>0.8726</td>\n",
       "      <td>1.3405</td>\n",
       "      <td>1.1471</td>\n",
       "    </tr>\n",
       "    <tr>\n",
       "      <th>2025-10-03</th>\n",
       "      <td>0.8529</td>\n",
       "      <td>0.7418</td>\n",
       "      <td>1.1698</td>\n",
       "      <td>0.8726</td>\n",
       "      <td>1.3405</td>\n",
       "      <td>1.1476</td>\n",
       "    </tr>\n",
       "  </tbody>\n",
       "</table>\n",
       "<p>7677 rows × 6 columns</p>\n",
       "</div>"
      ]
     },
     "execution_count": 60,
     "metadata": {},
     "output_type": "execute_result"
    }
   ],
   "execution_count": 60
  },
  {
   "metadata": {
    "ExecuteTime": {
     "end_time": "2025-10-16T04:29:05.884663Z",
     "start_time": "2025-10-16T04:29:05.875244Z"
    }
   },
   "cell_type": "code",
   "source": [
    "eur = 'EUR'\n",
    "new_built = []\n",
    "\n",
    "def get_rate(col_name: str):\n",
    "    # Returns series for a pair if present, else None\n",
    "    return rates_df[col_name] if col_name in rates_df.columns else None\n",
    "\n",
    "print(\"Building missing pairs via EUR cross where possible...\")\n",
    "for code in list(missing):\n",
    "    base, quote = code[:3], code[3:]\n",
    "\n",
    "    # Skip if already created earlier in notebook\n",
    "    if code in rates_df.columns:\n",
    "        continue\n",
    "\n",
    "    # If reverse exists, use inversion (already handled earlier but keep safe)\n",
    "    reverse_code = f\"{quote}{base}\"\n",
    "    if reverse_code in rates_df.columns:\n",
    "        rates_df[code] = 1.0 / rates_df[reverse_code]\n",
    "        new_built.append(code)\n",
    "        continue\n",
    "\n",
    "    base_eur = None\n",
    "    be = f\"{base}{eur}\"\n",
    "    eb = f\"{eur}{base}\"\n",
    "    s_be = get_rate(be)\n",
    "    s_eb = get_rate(eb)\n",
    "    if s_be is not None:\n",
    "        base_eur = s_be\n",
    "    elif s_eb is not None:\n",
    "        base_eur = 1.0 / s_eb\n",
    "\n",
    "    # Options to derive quote/EUR:\n",
    "    #   quote_eur = QUOTEEUR or 1 / EURQUOTE\n",
    "    quote_eur = None\n",
    "    qe = f\"{quote}{eur}\"\n",
    "    eq = f\"{eur}{quote}\"\n",
    "    s_qe = get_rate(qe)\n",
    "    s_eq = get_rate(eq)\n",
    "    if s_qe is not None:\n",
    "        quote_eur = s_qe\n",
    "    elif s_eq is not None:\n",
    "        quote_eur = 1.0 / s_eq\n",
    "\n",
    "    # If both found, AB = (base/EUR) / (quote/EUR)\n",
    "    if base_eur is not None and quote_eur is not None:\n",
    "        synth = (base_eur / quote_eur).rename(code)\n",
    "        # Align index and add to dataframe\n",
    "        rates_df[code] = synth\n",
    "        new_built.append(code)\n",
    "    else:\n",
    "        # Inform which leg is missing\n",
    "        need = []\n",
    "        if base_eur is None:\n",
    "            need.append(f\"{base} via EUR\")\n",
    "        if quote_eur is None:\n",
    "            need.append(f\"{quote} via EUR\")\n",
    "        print(f\"Skipping {code} (missing {' & '.join(need)})\")\n",
    "\n",
    "print(f\"Synthesized {len(new_built)} pairs via EUR:\", new_built)\n",
    "\n",
    "# Forward fill any gaps introduced\n",
    "rates_df = rates_df.sort_index().ffill()\n",
    "\n",
    "# add missing to pairs list\n",
    "pairs = list(dict.fromkeys(pairs + new_built))"
   ],
   "id": "346aad2233c42349",
   "outputs": [
    {
     "name": "stdout",
     "output_type": "stream",
     "text": [
      "Building missing pairs via EUR cross where possible...\n",
      "Synthesized 0 pairs via EUR: []\n"
     ]
    }
   ],
   "execution_count": 61
  },
  {
   "metadata": {
    "ExecuteTime": {
     "end_time": "2025-10-16T04:29:06.011870Z",
     "start_time": "2025-10-16T04:29:05.994055Z"
    }
   },
   "cell_type": "code",
   "source": [
    "with open('currencies_weights.json') as f:\n",
    "    weights = json.load(f)\n",
    "\n",
    "def calc_cur_index(cur, rates_df, weights):\n",
    "    mydict = {}\n",
    "    # filter the pairs that contain the currency and revert the rate if needed\n",
    "    for pair in rates_df.columns:\n",
    "        if cur == pair[3:]:\n",
    "            mydict[pair[:3]] = rates_df[pair]\n",
    "        elif cur == pair[:3]:\n",
    "            mydict[pair[3:]] = 1 / rates_df[pair]\n",
    "        else:\n",
    "            pass\n",
    "\n",
    "    df_currency = pd.DataFrame(mydict)\n",
    "\n",
    "    weighted_weights = []\n",
    "    for col in df_currency.columns:\n",
    "        weighted_weights.append(weights[col]['GDP'])\n",
    "\n",
    "    weighted_weights = [weight / sum(weighted_weights) for weight in weighted_weights]\n",
    "\n",
    "    df_index_prep = df_currency.copy()\n",
    "    df_index_prep = df_index_prep.pct_change(fill_method=None)\n",
    "    weights_df = pd.DataFrame(weighted_weights, index=df_index_prep.columns, columns=['Weight'])\n",
    "    df_index = df_index_prep.dot(weights_df['Weight']).cumsum(axis=0)*1000\n",
    "\n",
    "    return df_index\n",
    "\n",
    "backtest_df = rates_df.copy()\n",
    "for cur in currencies_universe:\n",
    "    backtest_df[cur] = calc_cur_index(cur, rates_df,  weights)\n",
    "\n",
    "# Fill NaN values forward with the previous available value\n",
    "backtest_df = backtest_df.ffill()"
   ],
   "id": "c212ef7f6855e8ef",
   "outputs": [],
   "execution_count": 62
  },
  {
   "metadata": {
    "ExecuteTime": {
     "end_time": "2025-10-16T04:29:06.039235Z",
     "start_time": "2025-10-16T04:29:06.033443Z"
    }
   },
   "cell_type": "code",
   "source": [
    "for pair in pairs:\n",
    "    if pair in rates_df.columns:\n",
    "        backtest_df[f\"{pair}_pct_change\"] = backtest_df[pair].pct_change(fill_method=None)"
   ],
   "id": "3af64a59bae64fe",
   "outputs": [],
   "execution_count": 63
  },
  {
   "metadata": {
    "ExecuteTime": {
     "end_time": "2025-10-16T04:29:06.093885Z",
     "start_time": "2025-10-16T04:29:06.085351Z"
    }
   },
   "cell_type": "code",
   "source": [
    "for cur in currencies_universe:\n",
    "    col = cur\n",
    "    if col in backtest_df.columns:\n",
    "        backtest_df[f\"{cur}_MA\"] = backtest_df[col].rolling(window=window, min_periods=1).mean()\n",
    "    else:\n",
    "        print(f\"Skipping {col} (not found in dataset)\")\n",
    "    # calculate the percentage of the currency against the index\n",
    "    backtest_df[f\"{col}_MA_diff_index\"] = (backtest_df[col] - backtest_df[f\"{cur}_MA\"]) / backtest_df[f\"{cur}_MA\"]\n",
    "\n",
    "backtest_df = backtest_df.iloc[window:]"
   ],
   "id": "dd90c52cb09eea24",
   "outputs": [],
   "execution_count": 64
  },
  {
   "metadata": {
    "ExecuteTime": {
     "end_time": "2025-10-16T04:29:06.148458Z",
     "start_time": "2025-10-16T04:29:06.132064Z"
    }
   },
   "cell_type": "code",
   "source": [
    "ma_diff_cols = [f\"{cur}_MA_diff_index\" for cur in currencies_universe if f\"{cur}_MA_diff_index\" in backtest_df.columns]\n",
    "\n",
    "highest_series = backtest_df[ma_diff_cols].idxmax(axis=1).str.replace(\"_MA_diff_index\", \"\", regex=False)\n",
    "lowest_series = backtest_df[ma_diff_cols].idxmin(axis=1).str.replace(\"_MA_diff_index\", \"\", regex=False)\n",
    "\n",
    "backtest_df[\"highest_MA_diff_currency\"] = highest_series\n",
    "backtest_df[\"lowest_MA_diff_currency\"] = lowest_series"
   ],
   "id": "7940ed85c1298731",
   "outputs": [],
   "execution_count": 65
  },
  {
   "metadata": {
    "ExecuteTime": {
     "end_time": "2025-10-16T04:29:06.164998Z",
     "start_time": "2025-10-16T04:29:06.159990Z"
    }
   },
   "cell_type": "code",
   "source": [
    "backtest_df['trading_pair'] = backtest_df[\"highest_MA_diff_currency\"] + backtest_df[\"lowest_MA_diff_currency\"]\n",
    "# shift one the trading pair\n",
    "backtest_df['trading_pair'] = backtest_df['trading_pair'].shift(1)"
   ],
   "id": "52e2ce8274129301",
   "outputs": [],
   "execution_count": 66
  },
  {
   "metadata": {
    "ExecuteTime": {
     "end_time": "2025-10-16T04:29:06.228443Z",
     "start_time": "2025-10-16T04:29:06.171152Z"
    }
   },
   "cell_type": "code",
   "source": [
    "def get_strategy_return(row):\n",
    "    if row['trading_pair'] == None:\n",
    "        return None\n",
    "    return row[f\"{row['trading_pair']}_pct_change\"]\n",
    "\n",
    "backtest_df['strategy_return'] = backtest_df.apply(get_strategy_return, axis=1)\n",
    "\n",
    "equity = (1 + backtest_df['strategy_return'].fillna(0)).cumprod()\n",
    "final_equity = equity.iloc[-1]\n",
    "print(final_equity)"
   ],
   "id": "2a787b971ba83cf",
   "outputs": [
    {
     "name": "stdout",
     "output_type": "stream",
     "text": [
      "13.738699494026134\n"
     ]
    }
   ],
   "execution_count": 67
  },
  {
   "metadata": {
    "ExecuteTime": {
     "end_time": "2025-10-16T04:29:06.413253Z",
     "start_time": "2025-10-16T04:29:06.250500Z"
    }
   },
   "cell_type": "code",
   "source": [
    "plt.figure(figsize=(10, 5))\n",
    "plt.plot(equity.index, equity.values)\n",
    "plt.title('Strategy Equity Curve')\n",
    "plt.xlabel('Date')\n",
    "plt.ylabel('Equity')\n",
    "plt.tight_layout()\n",
    "plt.show()"
   ],
   "id": "c1fc3b0ce5fa065",
   "outputs": [
    {
     "data": {
      "text/plain": [
       "<Figure size 1000x500 with 1 Axes>"
      ],
      "image/png": "[encoded data removed]"
     },
     "metadata": {},
     "output_type": "display_data",
     "jetTransient": {
      "display_id": null
     }
    }
   ],
   "execution_count": 68
  }
 ],
 "metadata": {
  "kernelspec": {
   "display_name": "Python 3",
   "language": "python",
   "name": "python3"
  },
  "language_info": {
   "codemirror_mode": {
    "name": "ipython",
    "version": 2
   },
   "file_extension": ".py",
   "mimetype": "text/x-python",
   "name": "python",
   "nbconvert_exporter": "python",
   "pygments_lexer": "ipython2",
   "version": "2.7.6"
  }
 },
 "nbformat": 4,
 "nbformat_minor": 5
}
