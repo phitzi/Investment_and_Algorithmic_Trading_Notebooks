{
 "cells": [
  {
   "cell_type": "markdown",
   "metadata": {},
   "source": [
    "### Custom Indices\n",
    "\n",
    "### This is for educational purposes and to support my medium article:\n",
    "\n",
    "Build your own trading index with Python : https://medium.com/@phitzi/build-your-own-trading-index-with-python-483cea143bc2"
   ]
  },
  {
   "cell_type": "code",
   "execution_count": 1,
   "metadata": {},
   "outputs": [],
   "source": [
    "import pandas as pd\n",
    "import json\n",
    "import yfinance as yf\n",
    "import mplfinance as mpf"
   ]
  },
  {
   "cell_type": "markdown",
   "metadata": {},
   "source": [
    "### Read the json file to get the list of currencies and their respective weights"
   ]
  },
  {
   "cell_type": "code",
   "execution_count": 2,
   "metadata": {},
   "outputs": [
    {
     "data": {
      "text/plain": [
       "{'USD': {'name': 'United States Dollar', 'symbol': '$', 'GDP': 26900.0},\n",
       " 'EUR': {'name': 'Euro', 'symbol': 'â‚¬', 'GDP': 19795.0},\n",
       " 'GBP': {'name': 'British Pound Sterling', 'symbol': 'Â£', 'GDP': 4032.0},\n",
       " 'AUD': {'name': 'Australian Dollar', 'symbol': 'A$', 'GDP': 1072.5},\n",
       " 'NZD': {'name': 'New Zealand Dollar', 'symbol': 'NZ$', 'GDP': 156.0},\n",
       " 'CHF': {'name': 'Swiss Franc', 'symbol': 'CHF', 'GDP': 913.0},\n",
       " 'CAD': {'name': 'Canadian Dollar', 'symbol': 'C$', 'GDP': 1702.0},\n",
       " 'JPY': {'name': 'Japanese Yen', 'symbol': 'Â¥', 'GDP': 368.65},\n",
       " 'SEK': {'name': 'Swedish Krona', 'symbol': 'kr', 'GDP': 58.9},\n",
       " 'NOK': {'name': 'Norwegian Krone', 'symbol': 'kr', 'GDP': 39.48},\n",
       " 'SGD': {'name': 'Singapore Dollar', 'symbol': 'S$', 'GDP': 370.0},\n",
       " 'PLN': {'name': 'Polish Zloty', 'symbol': 'zÅ‚', 'GDP': 201.6},\n",
       " 'DKK': {'name': 'Danish Krone', 'symbol': 'kr', 'GDP': 63.0},\n",
       " 'TRY': {'name': 'Turkish Lira', 'symbol': 'â‚º', 'GDP': 37.8},\n",
       " 'BRL': {'name': 'Brazilian Real', 'symbol': 'R$', 'GDP': 462.0},\n",
       " 'ZAR': {'name': 'South African Rand', 'symbol': 'R', 'GDP': 22.79},\n",
       " 'HKD': {'name': 'Hong Kong Dollar', 'symbol': 'HK$', 'GDP': 58.5},\n",
       " 'HUF': {'name': 'Hungarian Forint', 'symbol': 'Ft', 'GDP': 0.58},\n",
       " 'MXN': {'name': 'Mexican Peso', 'symbol': '$', 'GDP': 74.1}}"
      ]
     },
     "execution_count": 2,
     "metadata": {},
     "output_type": "execute_result"
    }
   ],
   "source": [
    "# read the currency weights from the json file into a dictionary\n",
    "with open('currencies_weights.json') as f:\n",
    "    currencies = json.load(f)\n",
    "\n",
    "currencies"
   ]
  },
  {
   "cell_type": "markdown",
   "metadata": {},
   "source": [
    "### Read the json file to get the list of pairs to be used"
   ]
  },
  {
   "cell_type": "code",
   "execution_count": 3,
   "metadata": {},
   "outputs": [
    {
     "data": {
      "text/plain": [
       "{'CHFPLN': {'name': 'CHFPLN', 'buycur': 'CHF', 'sellcur': 'PLN'},\n",
       " 'EURGBP': {'name': 'EURGBP', 'buycur': 'EUR', 'sellcur': 'GBP'},\n",
       " 'EURPLN': {'name': 'EURPLN', 'buycur': 'EUR', 'sellcur': 'PLN'},\n",
       " 'GBPPLN': {'name': 'GBPPLN', 'buycur': 'GBP', 'sellcur': 'PLN'},\n",
       " 'EURCHF': {'name': 'EURCHF', 'buycur': 'EUR', 'sellcur': 'CHF'},\n",
       " 'GBPJPY': {'name': 'GBPJPY', 'buycur': 'GBP', 'sellcur': 'JPY'},\n",
       " 'USDPLN': {'name': 'USDPLN', 'buycur': 'USD', 'sellcur': 'PLN'},\n",
       " 'USDTRY': {'name': 'USDTRY', 'buycur': 'USD', 'sellcur': 'TRY'},\n",
       " 'EURUSD': {'name': 'EURUSD', 'buycur': 'EUR', 'sellcur': 'USD'},\n",
       " 'GBPUSD': {'name': 'GBPUSD', 'buycur': 'GBP', 'sellcur': 'USD'},\n",
       " 'USDJPY': {'name': 'USDJPY', 'buycur': 'USD', 'sellcur': 'JPY'},\n",
       " 'AUDCAD': {'name': 'AUDCAD', 'buycur': 'AUD', 'sellcur': 'CAD'},\n",
       " 'AUDCHF': {'name': 'AUDCHF', 'buycur': 'AUD', 'sellcur': 'CHF'},\n",
       " 'AUDJPY': {'name': 'AUDJPY', 'buycur': 'AUD', 'sellcur': 'JPY'},\n",
       " 'GBPAUD': {'name': 'GBPAUD', 'buycur': 'GBP', 'sellcur': 'AUD'},\n",
       " 'AUDNZD': {'name': 'AUDNZD', 'buycur': 'AUD', 'sellcur': 'NZD'},\n",
       " 'GBPNZD': {'name': 'GBPNZD', 'buycur': 'GBP', 'sellcur': 'NZD'},\n",
       " 'NZDUSD': {'name': 'NZDUSD', 'buycur': 'NZD', 'sellcur': 'USD'},\n",
       " 'AUDUSD': {'name': 'AUDUSD', 'buycur': 'AUD', 'sellcur': 'USD'},\n",
       " 'USDCHF': {'name': 'USDCHF', 'buycur': 'USD', 'sellcur': 'CHF'},\n",
       " 'USDCAD': {'name': 'USDCAD', 'buycur': 'USD', 'sellcur': 'CAD'},\n",
       " 'CADCHF': {'name': 'CADCHF', 'buycur': 'CAD', 'sellcur': 'CHF'},\n",
       " 'CADJPY': {'name': 'CADJPY', 'buycur': 'CAD', 'sellcur': 'JPY'},\n",
       " 'CHFJPY': {'name': 'CHFJPY', 'buycur': 'CHF', 'sellcur': 'JPY'},\n",
       " 'EURAUD': {'name': 'EURAUD', 'buycur': 'EUR', 'sellcur': 'AUD'},\n",
       " 'EURCAD': {'name': 'EURCAD', 'buycur': 'EUR', 'sellcur': 'CAD'},\n",
       " 'EURJPY': {'name': 'EURJPY', 'buycur': 'EUR', 'sellcur': 'JPY'},\n",
       " 'EURHUF': {'name': 'EURHUF', 'buycur': 'EUR', 'sellcur': 'HUF'},\n",
       " 'EURNOK': {'name': 'EURNOK', 'buycur': 'EUR', 'sellcur': 'NOK'},\n",
       " 'EURNZD': {'name': 'EURNZD', 'buycur': 'EUR', 'sellcur': 'NZD'},\n",
       " 'EURSEK': {'name': 'EURSEK', 'buycur': 'EUR', 'sellcur': 'SEK'},\n",
       " 'EURTRY': {'name': 'EURTRY', 'buycur': 'EUR', 'sellcur': 'TRY'},\n",
       " 'GBPCAD': {'name': 'GBPCAD', 'buycur': 'GBP', 'sellcur': 'CAD'},\n",
       " 'GBPCHF': {'name': 'GBPCHF', 'buycur': 'GBP', 'sellcur': 'CHF'},\n",
       " 'NZDJPY': {'name': 'NZDJPY', 'buycur': 'NZD', 'sellcur': 'JPY'},\n",
       " 'USDHUF': {'name': 'USDHUF', 'buycur': 'USD', 'sellcur': 'HUF'},\n",
       " 'USDNOK': {'name': 'USDNOK', 'buycur': 'USD', 'sellcur': 'NOK'},\n",
       " 'USDSEK': {'name': 'USDSEK', 'buycur': 'USD', 'sellcur': 'SEK'},\n",
       " 'EURZAR': {'name': 'EURZAR', 'buycur': 'EUR', 'sellcur': 'ZAR'},\n",
       " 'USDZAR': {'name': 'USDZAR', 'buycur': 'USD', 'sellcur': 'ZAR'},\n",
       " 'USDDKK': {'name': 'USDDKK', 'buycur': 'USD', 'sellcur': 'DKK'}}"
      ]
     },
     "execution_count": 3,
     "metadata": {},
     "output_type": "execute_result"
    }
   ],
   "source": [
    "# read the pairs document into a dictionary\n",
    "with open('currencies_pairs.json') as f:\n",
    "    pairs = json.load(f)\n",
    "\n",
    "pairs"
   ]
  },
  {
   "cell_type": "markdown",
   "metadata": {},
   "source": [
    "### Using YFinance download the 1h data for each pair\n",
    "\n",
    "The dataframes will be stored in a initial dictionary of pairs"
   ]
  },
  {
   "cell_type": "code",
   "execution_count": 4,
   "metadata": {},
   "outputs": [
    {
     "name": "stderr",
     "output_type": "stream",
     "text": [
      "[*********************100%%**********************]  1 of 1 completed\n",
      "[*********************100%%**********************]  1 of 1 completed\n",
      "[*********************100%%**********************]  1 of 1 completed\n",
      "[*********************100%%**********************]  1 of 1 completed\n",
      "[*********************100%%**********************]  1 of 1 completed\n",
      "[*********************100%%**********************]  1 of 1 completed\n",
      "[*********************100%%**********************]  1 of 1 completed\n",
      "[*********************100%%**********************]  1 of 1 completed\n",
      "[*********************100%%**********************]  1 of 1 completed\n",
      "[*********************100%%**********************]  1 of 1 completed\n",
      "[*********************100%%**********************]  1 of 1 completed\n",
      "[*********************100%%**********************]  1 of 1 completed\n",
      "[*********************100%%**********************]  1 of 1 completed\n",
      "[*********************100%%**********************]  1 of 1 completed\n",
      "[*********************100%%**********************]  1 of 1 completed\n",
      "[*********************100%%**********************]  1 of 1 completed\n",
      "[*********************100%%**********************]  1 of 1 completed\n",
      "[*********************100%%**********************]  1 of 1 completed\n",
      "[*********************100%%**********************]  1 of 1 completed\n",
      "[*********************100%%**********************]  1 of 1 completed\n",
      "[*********************100%%**********************]  1 of 1 completed\n",
      "[*********************100%%**********************]  1 of 1 completed\n",
      "[*********************100%%**********************]  1 of 1 completed\n",
      "[*********************100%%**********************]  1 of 1 completed\n",
      "[*********************100%%**********************]  1 of 1 completed\n",
      "[*********************100%%**********************]  1 of 1 completed\n",
      "[*********************100%%**********************]  1 of 1 completed\n",
      "[*********************100%%**********************]  1 of 1 completed\n",
      "[*********************100%%**********************]  1 of 1 completed\n",
      "[*********************100%%**********************]  1 of 1 completed\n",
      "[*********************100%%**********************]  1 of 1 completed\n",
      "[*********************100%%**********************]  1 of 1 completed\n",
      "[*********************100%%**********************]  1 of 1 completed\n",
      "[*********************100%%**********************]  1 of 1 completed\n",
      "[*********************100%%**********************]  1 of 1 completed\n",
      "[*********************100%%**********************]  1 of 1 completed\n",
      "[*********************100%%**********************]  1 of 1 completed\n",
      "[*********************100%%**********************]  1 of 1 completed\n",
      "[*********************100%%**********************]  1 of 1 completed\n",
      "[*********************100%%**********************]  1 of 1 completed\n",
      "[*********************100%%**********************]  1 of 1 completed\n"
     ]
    }
   ],
   "source": [
    "for pair in pairs:\n",
    "    pairs[pair]['df'] = yf.download(pairs[pair]['name'] + '=X', start='2023-01-01',end='2023-12-31', interval='1h')\n"
   ]
  },
  {
   "cell_type": "markdown",
   "metadata": {},
   "source": [
    "### It is important to have the same dates in all the dataframes so we will exclude not common dates"
   ]
  },
  {
   "cell_type": "code",
   "execution_count": 5,
   "metadata": {},
   "outputs": [
    {
     "name": "stdout",
     "output_type": "stream",
     "text": [
      "2023-01-02 00:00:00+00:00 2023-12-29 21:00:00+00:00\n"
     ]
    }
   ],
   "source": [
    "# find min and max\n",
    "for pair in pairs:\n",
    "    mindate = min(pairs[pair]['df'].index)\n",
    "    maxdate = max(pairs[pair]['df'].index)\n",
    "# exclude not common dates\n",
    "for pair in pairs:\n",
    "    pairs[pair]['df'] = pairs[pair]['df'].loc[mindate:maxdate]\n",
    "print(mindate, maxdate)"
   ]
  },
  {
   "cell_type": "markdown",
   "metadata": {},
   "source": [
    "### Create a dataframe with all the close prices currencies\n",
    "\n",
    "- We set the currency for which we want to do the analysis\n",
    "- We loop through all the pairs and store the close price of the currency in the dataframe\n",
    "- We invert the rate for each pair when the currency is the sell currency so all of them have the currency as the buy currency"
   ]
  },
  {
   "cell_type": "code",
   "execution_count": 6,
   "metadata": {},
   "outputs": [
    {
     "name": "stdout",
     "output_type": "stream",
     "text": [
      "buy USDPLN\n",
      "buy USDTRY\n",
      "sell EURUSD\n",
      "sell GBPUSD\n",
      "buy USDJPY\n",
      "sell NZDUSD\n",
      "sell AUDUSD\n",
      "buy USDCHF\n",
      "buy USDCAD\n",
      "buy USDHUF\n",
      "buy USDNOK\n",
      "buy USDSEK\n",
      "buy USDZAR\n",
      "buy USDDKK\n"
     ]
    }
   ],
   "source": [
    "# the process will run for EURO\n",
    "currency = 'USD'\n",
    "\n",
    "mydict = {}\n",
    "# filter the pairs that contain the currency\n",
    "for pair in pairs:\n",
    "    if currency in pairs[pair]['buycur']:\n",
    "        print(\"buy\", pair)\n",
    "        mydict[pairs[pair]['sellcur']] = pairs[pair]['df']['Close']\n",
    "    elif currency in pairs[pair]['sellcur']:\n",
    "        print(\"sell\", pair)\n",
    "        mydict[pairs[pair]['buycur']] = 1 / pairs[pair]['df']['Close']\n",
    "    \n",
    "df_currency = pd.DataFrame(mydict)\n",
    "df_currency\n",
    "df_currency.to_csv('df_currencies.csv')"
   ]
  },
  {
   "cell_type": "markdown",
   "metadata": {},
   "source": [
    "### For the pairs we calculate the weights based on the GDP\n",
    "\n",
    "The order should be the same as the dataframe"
   ]
  },
  {
   "cell_type": "code",
   "execution_count": 7,
   "metadata": {},
   "outputs": [
    {
     "name": "stdout",
     "output_type": "stream",
     "text": [
      "[201.6, 37.8, 19795.0, 4032.0, 368.65, 156.0, 1072.5, 913.0, 1702.0, 0.58, 39.48, 58.9, 22.79, 63.0]\n",
      "[0.007082804875049624, 0.0013280259140718044, 0.6954569568532109, 0.14165609750099248, 0.012951765958269065, 0.005480741867597923, 0.03768010033973572, 0.03207639310972374, 0.05979629909392093, 2.037711720004356e-05, 0.0013870492880305512, 0.0020693313846251132, 0.000800680174118953, 0.0022133765234530075]\n"
     ]
    }
   ],
   "source": [
    "weights = []\n",
    "for col in df_currency.columns:\n",
    "    weights.append(currencies[col]['GDP'])\n",
    "\n",
    "print(weights)\n",
    "weights = [weight / sum(weights) for weight in weights]\n",
    "print(weights)"
   ]
  },
  {
   "cell_type": "markdown",
   "metadata": {},
   "source": [
    "### We calculate the index\n",
    "\n",
    "- First we calculate the percentage change\n",
    "- The we apply the USD column to the weighted percentage change (dot)\n",
    "- Then we calculate the cumulative sum for the row (cumsum)"
   ]
  },
  {
   "cell_type": "code",
   "execution_count": 8,
   "metadata": {},
   "outputs": [
    {
     "name": "stdout",
     "output_type": "stream",
     "text": [
      "                                PLN       TRY       EUR       GBP       JPY  \\\n",
      "Datetime                                                                      \n",
      "2023-01-02 09:00:00+00:00  0.000846 -0.000523  0.000107  0.000759 -0.000451   \n",
      "2023-01-02 10:00:00+00:00 -0.001085  0.000048 -0.000214 -0.000434 -0.000734   \n",
      "2023-01-02 11:00:00+00:00  0.001006  0.000278 -0.000427  0.000048 -0.000138   \n",
      "2023-01-02 12:00:00+00:00  0.000228 -0.000224  0.000428 -0.000096 -0.000268   \n",
      "2023-01-02 13:00:00+00:00 -0.000043  0.000040  0.000107  0.000181 -0.000666   \n",
      "\n",
      "                                NZD       AUD       CHF       CAD       HUF  \\\n",
      "Datetime                                                                      \n",
      "2023-01-02 09:00:00+00:00  0.000063  0.001423 -0.000335  0.001085 -0.001624   \n",
      "2023-01-02 10:00:00+00:00 -0.000190 -0.000027 -0.000011  0.000184  0.000187   \n",
      "2023-01-02 11:00:00+00:00 -0.000253 -0.001482 -0.000238  0.000656 -0.000213   \n",
      "2023-01-02 12:00:00+00:00  0.000063 -0.000368 -0.000249  0.000221  0.000427   \n",
      "2023-01-02 13:00:00+00:00  0.000380  0.000150  0.000108 -0.000147  0.000587   \n",
      "\n",
      "                                NOK       SEK       ZAR       DKK       USD  \n",
      "Datetime                                                                     \n",
      "2023-01-02 09:00:00+00:00 -0.000564 -0.001057 -0.002905  0.000034  0.284249  \n",
      "2023-01-02 10:00:00+00:00 -0.000874  0.000255  0.000089 -0.000731  0.063471  \n",
      "2023-01-02 11:00:00+00:00 -0.001980 -0.001032  0.001114  0.000185 -0.250415  \n",
      "2023-01-02 12:00:00+00:00  0.002209  0.000445 -0.000402  0.000174  0.026923  \n",
      "2023-01-02 13:00:00+00:00  0.000671 -0.000174 -0.000340  0.000320  0.121341  \n"
     ]
    }
   ],
   "source": [
    "  \n",
    "df_index = df_currency.copy()\n",
    "df_index = df_index.pct_change(fill_method=None)\n",
    "df_index.dropna(inplace=True)\n",
    "\n",
    "weights_df = pd.DataFrame(weights, index=df_index.columns, columns=['Weight'])\n",
    "df_index[currency] = df_index.dot(weights_df['Weight']).cumsum(axis=0)*1000\n",
    "df_index[currency] = df_index[currency].round(6)\n",
    "print(df_index.head(5))\n"
   ]
  },
  {
   "cell_type": "markdown",
   "metadata": {},
   "source": [
    "### Calculate the candles for the index\n",
    "\n",
    "With the use of resample we can calculate the daily OHLC for the index"
   ]
  },
  {
   "cell_type": "code",
   "execution_count": 9,
   "metadata": {},
   "outputs": [
    {
     "data": {
      "text/html": [
       "<div>\n",
       "<style scoped>\n",
       "    .dataframe tbody tr th:only-of-type {\n",
       "        vertical-align: middle;\n",
       "    }\n",
       "\n",
       "    .dataframe tbody tr th {\n",
       "        vertical-align: top;\n",
       "    }\n",
       "\n",
       "    .dataframe thead th {\n",
       "        text-align: right;\n",
       "    }\n",
       "</style>\n",
       "<table border=\"1\" class=\"dataframe\">\n",
       "  <thead>\n",
       "    <tr style=\"text-align: right;\">\n",
       "      <th></th>\n",
       "      <th>open</th>\n",
       "      <th>high</th>\n",
       "      <th>low</th>\n",
       "      <th>close</th>\n",
       "    </tr>\n",
       "    <tr>\n",
       "      <th>Datetime</th>\n",
       "      <th></th>\n",
       "      <th></th>\n",
       "      <th></th>\n",
       "      <th></th>\n",
       "    </tr>\n",
       "  </thead>\n",
       "  <tbody>\n",
       "    <tr>\n",
       "      <th>2023-01-02 00:00:00+00:00</th>\n",
       "      <td>0.284249</td>\n",
       "      <td>1.936354</td>\n",
       "      <td>-0.250415</td>\n",
       "      <td>0.836444</td>\n",
       "    </tr>\n",
       "    <tr>\n",
       "      <th>2023-01-03 00:00:00+00:00</th>\n",
       "      <td>1.437141</td>\n",
       "      <td>14.063053</td>\n",
       "      <td>0.595105</td>\n",
       "      <td>12.326182</td>\n",
       "    </tr>\n",
       "    <tr>\n",
       "      <th>2023-01-04 00:00:00+00:00</th>\n",
       "      <td>10.937866</td>\n",
       "      <td>10.937866</td>\n",
       "      <td>3.993569</td>\n",
       "      <td>5.507301</td>\n",
       "    </tr>\n",
       "    <tr>\n",
       "      <th>2023-01-05 00:00:00+00:00</th>\n",
       "      <td>3.763795</td>\n",
       "      <td>15.212189</td>\n",
       "      <td>3.763795</td>\n",
       "      <td>14.312405</td>\n",
       "    </tr>\n",
       "    <tr>\n",
       "      <th>2023-01-06 00:00:00+00:00</th>\n",
       "      <td>13.483515</td>\n",
       "      <td>17.597058</td>\n",
       "      <td>1.976376</td>\n",
       "      <td>2.222598</td>\n",
       "    </tr>\n",
       "    <tr>\n",
       "      <th>...</th>\n",
       "      <td>...</td>\n",
       "      <td>...</td>\n",
       "      <td>...</td>\n",
       "      <td>...</td>\n",
       "    </tr>\n",
       "    <tr>\n",
       "      <th>2023-12-22 00:00:00+00:00</th>\n",
       "      <td>-10.782935</td>\n",
       "      <td>-10.037599</td>\n",
       "      <td>-13.887744</td>\n",
       "      <td>-11.446762</td>\n",
       "    </tr>\n",
       "    <tr>\n",
       "      <th>2023-12-26 00:00:00+00:00</th>\n",
       "      <td>-11.726917</td>\n",
       "      <td>-10.799179</td>\n",
       "      <td>-13.697165</td>\n",
       "      <td>-13.632153</td>\n",
       "    </tr>\n",
       "    <tr>\n",
       "      <th>2023-12-27 00:00:00+00:00</th>\n",
       "      <td>-13.120728</td>\n",
       "      <td>-12.952654</td>\n",
       "      <td>-19.443416</td>\n",
       "      <td>-19.056811</td>\n",
       "    </tr>\n",
       "    <tr>\n",
       "      <th>2023-12-28 00:00:00+00:00</th>\n",
       "      <td>-19.642847</td>\n",
       "      <td>-15.007364</td>\n",
       "      <td>-20.517725</td>\n",
       "      <td>-15.256104</td>\n",
       "    </tr>\n",
       "    <tr>\n",
       "      <th>2023-12-29 00:00:00+00:00</th>\n",
       "      <td>-16.005652</td>\n",
       "      <td>-13.315010</td>\n",
       "      <td>-16.306726</td>\n",
       "      <td>-13.315010</td>\n",
       "    </tr>\n",
       "  </tbody>\n",
       "</table>\n",
       "<p>259 rows × 4 columns</p>\n",
       "</div>"
      ],
      "text/plain": [
       "                                open       high        low      close\n",
       "Datetime                                                             \n",
       "2023-01-02 00:00:00+00:00   0.284249   1.936354  -0.250415   0.836444\n",
       "2023-01-03 00:00:00+00:00   1.437141  14.063053   0.595105  12.326182\n",
       "2023-01-04 00:00:00+00:00  10.937866  10.937866   3.993569   5.507301\n",
       "2023-01-05 00:00:00+00:00   3.763795  15.212189   3.763795  14.312405\n",
       "2023-01-06 00:00:00+00:00  13.483515  17.597058   1.976376   2.222598\n",
       "...                              ...        ...        ...        ...\n",
       "2023-12-22 00:00:00+00:00 -10.782935 -10.037599 -13.887744 -11.446762\n",
       "2023-12-26 00:00:00+00:00 -11.726917 -10.799179 -13.697165 -13.632153\n",
       "2023-12-27 00:00:00+00:00 -13.120728 -12.952654 -19.443416 -19.056811\n",
       "2023-12-28 00:00:00+00:00 -19.642847 -15.007364 -20.517725 -15.256104\n",
       "2023-12-29 00:00:00+00:00 -16.005652 -13.315010 -16.306726 -13.315010\n",
       "\n",
       "[259 rows x 4 columns]"
      ]
     },
     "execution_count": 9,
     "metadata": {},
     "output_type": "execute_result"
    }
   ],
   "source": [
    "df_index = df_index[currency].dropna()\n",
    "ohlc = df_index.resample('D').ohlc()\n",
    "ohlc.dropna(inplace=True)\n",
    "ohlc"
   ]
  },
  {
   "cell_type": "markdown",
   "metadata": {},
   "source": [
    "### Validation\n",
    "\n",
    "To ensure that our code is correct we will download the USD dollar index and compare"
   ]
  },
  {
   "cell_type": "code",
   "execution_count": 12,
   "metadata": {},
   "outputs": [
    {
     "name": "stderr",
     "output_type": "stream",
     "text": [
      "[*********************100%%**********************]  1 of 1 completed\n"
     ]
    },
    {
     "data": {
      "text/html": [
       "<div>\n",
       "<style scoped>\n",
       "    .dataframe tbody tr th:only-of-type {\n",
       "        vertical-align: middle;\n",
       "    }\n",
       "\n",
       "    .dataframe tbody tr th {\n",
       "        vertical-align: top;\n",
       "    }\n",
       "\n",
       "    .dataframe thead th {\n",
       "        text-align: right;\n",
       "    }\n",
       "</style>\n",
       "<table border=\"1\" class=\"dataframe\">\n",
       "  <thead>\n",
       "    <tr style=\"text-align: right;\">\n",
       "      <th></th>\n",
       "      <th>Open</th>\n",
       "      <th>High</th>\n",
       "      <th>Low</th>\n",
       "      <th>Close</th>\n",
       "      <th>Adj Close</th>\n",
       "      <th>Volume</th>\n",
       "    </tr>\n",
       "    <tr>\n",
       "      <th>Date</th>\n",
       "      <th></th>\n",
       "      <th></th>\n",
       "      <th></th>\n",
       "      <th></th>\n",
       "      <th></th>\n",
       "      <th></th>\n",
       "    </tr>\n",
       "  </thead>\n",
       "  <tbody>\n",
       "    <tr>\n",
       "      <th>2023-01-03</th>\n",
       "      <td>103.660004</td>\n",
       "      <td>104.860001</td>\n",
       "      <td>103.470001</td>\n",
       "      <td>104.519997</td>\n",
       "      <td>104.519997</td>\n",
       "      <td>0</td>\n",
       "    </tr>\n",
       "    <tr>\n",
       "      <th>2023-01-04</th>\n",
       "      <td>104.580002</td>\n",
       "      <td>104.599998</td>\n",
       "      <td>103.830002</td>\n",
       "      <td>104.250000</td>\n",
       "      <td>104.250000</td>\n",
       "      <td>0</td>\n",
       "    </tr>\n",
       "    <tr>\n",
       "      <th>2023-01-05</th>\n",
       "      <td>104.070000</td>\n",
       "      <td>105.269997</td>\n",
       "      <td>103.989998</td>\n",
       "      <td>105.040001</td>\n",
       "      <td>105.040001</td>\n",
       "      <td>0</td>\n",
       "    </tr>\n",
       "    <tr>\n",
       "      <th>2023-01-06</th>\n",
       "      <td>105.050003</td>\n",
       "      <td>105.629997</td>\n",
       "      <td>103.870003</td>\n",
       "      <td>103.879997</td>\n",
       "      <td>103.879997</td>\n",
       "      <td>0</td>\n",
       "    </tr>\n",
       "    <tr>\n",
       "      <th>2023-01-09</th>\n",
       "      <td>103.910004</td>\n",
       "      <td>103.940002</td>\n",
       "      <td>102.940002</td>\n",
       "      <td>103.000000</td>\n",
       "      <td>103.000000</td>\n",
       "      <td>0</td>\n",
       "    </tr>\n",
       "    <tr>\n",
       "      <th>...</th>\n",
       "      <td>...</td>\n",
       "      <td>...</td>\n",
       "      <td>...</td>\n",
       "      <td>...</td>\n",
       "      <td>...</td>\n",
       "      <td>...</td>\n",
       "    </tr>\n",
       "    <tr>\n",
       "      <th>2023-12-22</th>\n",
       "      <td>101.760002</td>\n",
       "      <td>101.900002</td>\n",
       "      <td>101.430000</td>\n",
       "      <td>101.699997</td>\n",
       "      <td>101.699997</td>\n",
       "      <td>0</td>\n",
       "    </tr>\n",
       "    <tr>\n",
       "      <th>2023-12-26</th>\n",
       "      <td>101.650002</td>\n",
       "      <td>101.769997</td>\n",
       "      <td>101.449997</td>\n",
       "      <td>101.470001</td>\n",
       "      <td>101.470001</td>\n",
       "      <td>0</td>\n",
       "    </tr>\n",
       "    <tr>\n",
       "      <th>2023-12-27</th>\n",
       "      <td>101.550003</td>\n",
       "      <td>101.570000</td>\n",
       "      <td>100.830002</td>\n",
       "      <td>100.989998</td>\n",
       "      <td>100.989998</td>\n",
       "      <td>0</td>\n",
       "    </tr>\n",
       "    <tr>\n",
       "      <th>2023-12-28</th>\n",
       "      <td>100.870003</td>\n",
       "      <td>101.300003</td>\n",
       "      <td>100.620003</td>\n",
       "      <td>101.230003</td>\n",
       "      <td>101.230003</td>\n",
       "      <td>0</td>\n",
       "    </tr>\n",
       "    <tr>\n",
       "      <th>2023-12-29</th>\n",
       "      <td>101.199997</td>\n",
       "      <td>101.419998</td>\n",
       "      <td>101.070000</td>\n",
       "      <td>101.330002</td>\n",
       "      <td>101.330002</td>\n",
       "      <td>0</td>\n",
       "    </tr>\n",
       "  </tbody>\n",
       "</table>\n",
       "<p>250 rows × 6 columns</p>\n",
       "</div>"
      ],
      "text/plain": [
       "                  Open        High         Low       Close   Adj Close  Volume\n",
       "Date                                                                          \n",
       "2023-01-03  103.660004  104.860001  103.470001  104.519997  104.519997       0\n",
       "2023-01-04  104.580002  104.599998  103.830002  104.250000  104.250000       0\n",
       "2023-01-05  104.070000  105.269997  103.989998  105.040001  105.040001       0\n",
       "2023-01-06  105.050003  105.629997  103.870003  103.879997  103.879997       0\n",
       "2023-01-09  103.910004  103.940002  102.940002  103.000000  103.000000       0\n",
       "...                ...         ...         ...         ...         ...     ...\n",
       "2023-12-22  101.760002  101.900002  101.430000  101.699997  101.699997       0\n",
       "2023-12-26  101.650002  101.769997  101.449997  101.470001  101.470001       0\n",
       "2023-12-27  101.550003  101.570000  100.830002  100.989998  100.989998       0\n",
       "2023-12-28  100.870003  101.300003  100.620003  101.230003  101.230003       0\n",
       "2023-12-29  101.199997  101.419998  101.070000  101.330002  101.330002       0\n",
       "\n",
       "[250 rows x 6 columns]"
      ]
     },
     "execution_count": 12,
     "metadata": {},
     "output_type": "execute_result"
    }
   ],
   "source": [
    "usd_dollar_index = yf.download('DX-Y.NYB', start='2023-01-01',end='2023-12-31', interval='1d')\n",
    "usd_dollar_index"
   ]
  },
  {
   "cell_type": "markdown",
   "metadata": {},
   "source": [
    "### Visual comparison\n",
    "\n",
    "We will plot the USD and our custom Index"
   ]
  },
  {
   "cell_type": "code",
   "execution_count": 15,
   "metadata": {},
   "outputs": [
    {
     "data": {
      "image/png": "[encoded data removed]",
      "text/plain": [
       "<Figure size 1725x575 with 2 Axes>"
      ]
     },
     "metadata": {},
     "output_type": "display_data"
    },
    {
     "data": {
      "image/png": "[encoded data removed]",
      "text/plain": [
       "<Figure size 1725x575 with 2 Axes>"
      ]
     },
     "metadata": {},
     "output_type": "display_data"
    }
   ],
   "source": [
    "mpf.plot(ohlc,type='candle',figratio=(30,10))\n",
    "mpf.plot(usd_dollar_index,type='candle',figratio=(30,10))"
   ]
  },
  {
   "cell_type": "markdown",
   "metadata": {},
   "source": [
    "### Comparison with Correlation\n",
    "\n",
    "We will calculate the correlation between the USD and the index closing prices"
   ]
  },
  {
   "cell_type": "code",
   "execution_count": 29,
   "metadata": {},
   "outputs": [
    {
     "data": {
      "text/plain": [
       "np.float64(0.9763150039661698)"
      ]
     },
     "execution_count": 29,
     "metadata": {},
     "output_type": "execute_result"
    }
   ],
   "source": [
    "# first we shold make both datetime indices timezone-naive before calculating the correlation\n",
    "ohlc.index = ohlc.index.tz_localize(None)\n",
    "usd_dollar_index.index = usd_dollar_index.index.tz_localize(None)\n",
    "\n",
    "combined_df = pd.DataFrame({\n",
    "    'ohlc': ohlc['close'],\n",
    "    'usd_dollar_index': usd_dollar_index['Close']\n",
    "})\n",
    "\n",
    "correlation = combined_df.corr().iloc[0, 1]\n",
    "correlation\n"
   ]
  }
 ],
 "metadata": {
  "kernelspec": {
   "display_name": ".venv",
   "language": "python",
   "name": "python3"
  },
  "language_info": {
   "codemirror_mode": {
    "name": "ipython",
    "version": 3
   },
   "file_extension": ".py",
   "mimetype": "text/x-python",
   "name": "python",
   "nbconvert_exporter": "python",
   "pygments_lexer": "ipython3",
   "version": "3.10.11"
  }
 },
 "nbformat": 4,
 "nbformat_minor": 2
}
